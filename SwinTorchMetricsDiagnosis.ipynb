{
  "cells": [
    {
      "cell_type": "code",
      "execution_count": 1,
      "metadata": {
        "colab": {
          "base_uri": "https://localhost:8080/"
        },
        "id": "TVHZ8OFy8dl2",
        "outputId": "3ca4e41a-2d00-4c34-b939-8e2595a82992"
      },
      "outputs": [
        {
          "name": "stdout",
          "output_type": "stream",
          "text": [
            "Thu May 19 12:24:23 2022       \n",
            "+-----------------------------------------------------------------------------+\n",
            "| NVIDIA-SMI 512.77       Driver Version: 512.77       CUDA Version: 11.6     |\n",
            "|-------------------------------+----------------------+----------------------+\n",
            "| GPU  Name            TCC/WDDM | Bus-Id        Disp.A | Volatile Uncorr. ECC |\n",
            "| Fan  Temp  Perf  Pwr:Usage/Cap|         Memory-Usage | GPU-Util  Compute M. |\n",
            "|                               |                      |               MIG M. |\n",
            "|===============================+======================+======================|\n",
            "|   0  NVIDIA GeForce ... WDDM  | 00000000:01:00.0  On |                  N/A |\n",
            "| 31%   58C    P0    71W / 300W |   3126MiB / 11264MiB |      5%      Default |\n",
            "|                               |                      |                  N/A |\n",
            "+-------------------------------+----------------------+----------------------+\n",
            "                                                                               \n",
            "+-----------------------------------------------------------------------------+\n",
            "| Processes:                                                                  |\n",
            "|  GPU   GI   CI        PID   Type   Process name                  GPU Memory |\n",
            "|        ID   ID                                                   Usage      |\n",
            "|=============================================================================|\n",
            "|    0   N/A  N/A      4196    C+G   ...e\\root\\Office16\\EXCEL.EXE    N/A      |\n",
            "|    0   N/A  N/A      5900    C+G   ...bbwe\\Microsoft.Photos.exe    N/A      |\n",
            "|    0   N/A  N/A      8292    C+G   ...32\\backgroundTaskHost.exe    N/A      |\n",
            "|    0   N/A  N/A     10396    C+G   C:\\Windows\\explorer.exe         N/A      |\n",
            "|    0   N/A  N/A     11408    C+G   ...ekyb3d8bbwe\\YourPhone.exe    N/A      |\n",
            "|    0   N/A  N/A     11452    C+G   ...artMenuExperienceHost.exe    N/A      |\n",
            "|    0   N/A  N/A     14084    C+G   ...2txyewy\\TextInputHost.exe    N/A      |\n",
            "|    0   N/A  N/A     14556    C+G   ...perience\\NVIDIA Share.exe    N/A      |\n",
            "|    0   N/A  N/A     15124    C+G   ...perience\\NVIDIA Share.exe    N/A      |\n",
            "|    0   N/A  N/A     16968    C+G   ...obeNotificationClient.exe    N/A      |\n",
            "|    0   N/A  N/A     17484    C+G   ...root\\Office16\\WINWORD.EXE    N/A      |\n",
            "|    0   N/A  N/A     17692    C+G   ...in7x64\\steamwebhelper.exe    N/A      |\n",
            "|    0   N/A  N/A     19380    C+G   ...y\\ShellExperienceHost.exe    N/A      |\n",
            "|    0   N/A  N/A     20316    C+G   ...5n1h2txyewy\\SearchApp.exe    N/A      |\n",
            "|    0   N/A  N/A     21660    C+G   ...me\\Application\\chrome.exe    N/A      |\n",
            "|    0   N/A  N/A     21700    C+G   ...\\app-1.0.9004\\Discord.exe    N/A      |\n",
            "|    0   N/A  N/A     22296    C+G   ...aming\\Spotify\\Spotify.exe    N/A      |\n",
            "|    0   N/A  N/A     22516    C+G   ...icrosoft VS Code\\Code.exe    N/A      |\n",
            "|    0   N/A  N/A     23076    C+G   ...les (x86)\\Steam\\steam.exe    N/A      |\n",
            "|    0   N/A  N/A     23668    C+G   ...t\\Teams\\current\\Teams.exe    N/A      |\n",
            "|    0   N/A  N/A     24732    C+G   ...5n1h2txyewy\\SearchApp.exe    N/A      |\n",
            "|    0   N/A  N/A     26948    C+G   ...5n1h2txyewy\\SearchApp.exe    N/A      |\n",
            "|    0   N/A  N/A     28804    C+G   ...Launcher\\UplayWebCore.exe    N/A      |\n",
            "+-----------------------------------------------------------------------------+\n"
          ]
        }
      ],
      "source": [
        "!nvidia-smi"
      ]
    },
    {
      "cell_type": "code",
      "execution_count": 206,
      "metadata": {
        "id": "byXxUcDI-BLR"
      },
      "outputs": [
        {
          "name": "stdout",
          "output_type": "stream",
          "text": [
            "cuda\n"
          ]
        }
      ],
      "source": [
        "#Problem params\n",
        "numClasses = 1000\n",
        "realClassNumber = 2\n",
        "if realClassNumber > 2:\n",
        "  binaryClassification = False\n",
        "else:\n",
        "  binaryClassification = True\n",
        "\n",
        "imageSizePx = 224#224\n",
        "window_Size = int(7*(imageSizePx/224))\n",
        "\n",
        "\n",
        "import torch\n",
        "device = \"cuda\" if torch.cuda.is_available() else \"cpu\"\n",
        "print(device)\n",
        "\n",
        "if device == \"cuda\":\n",
        "  batchSize = 8#64 #224:64, 448:8, 672:2\n",
        "else:\n",
        "  batchSize = 32\n",
        "\n",
        "#best for each model\n",
        "#DR test\n",
        "\n",
        "pretrainedPath = r'E:\\models\\diagnosis\\G30-G32_Other_degenerative_diseases_of_nervous_system\\swin_tiny_patch4_window7_224\\ImageNetMoBy224\\ckpt_epoch_4.pth'\n",
        "\n",
        "#Top-1 models\n",
        "#IMGNET SUPER 224 '/content/drive/MyDrive/Colab Notebooks/FYP/MOBY SSL SWIN/swin_tiny_patch4_window7_224/ImageNetSupervisedPretrained224/ckpt_epoch_45.pth'\n",
        "#random 224 \"/content/drive/MyDrive/Colab Notebooks/FYP/MOBY SSL SWIN/swin_tiny_patch4_window7_224/RandomInit224/ckpt_epoch_49.pth\"\n",
        "#ImageNet MOBY \"/content/drive/MyDrive/Colab Notebooks/FYP/MOBY SSL SWIN/swin_tiny_patch4_window7_224/ImageNetUnsupervisedPretrainMOBY224/ckpt_epoch_49.pth\"\n",
        "#MineMOBY224 \"/content/drive/MyDrive/Colab Notebooks/FYP/MOBY SSL SWIN/swin_tiny_patch4_window7_224/MineUnsupervisedPretrainMOBY224/ckpt_epoch_130.pth\"\n",
        "#MineMOBY448 \"/content/drive/MyDrive/Colab Notebooks/FYP/MOBY SSL SWIN/swin_tiny_patch4_window7_224/MineUnsupervisedPretrainMOBY448/ckpt_epoch_18.pth\"\n",
        "#672 \"/content/drive/MyDrive/Colab Notebooks/FYP/MOBY SSL SWIN/swin_tiny_patch4_window7_224/MineUnsupervisedPretrainMOBY672/ckpt_epoch_10.pth\"\n",
        "\n",
        "#lowest loss\n",
        "\n",
        "#-----------\n",
        "#Ch_IX_Diseases_of_Circulatory_System\n",
        "#imagenetsuper r'E:\\models\\diagnosis\\Ch_IX_Diseases_of_Circulatory_System\\swin_tiny_patch4_window7_224\\ImageNetSupervised224\\ckpt_epoch_35.pth'\n",
        "#imagenetmoby r'E:\\models\\diagnosis\\Ch_IX_Diseases_of_Circulatory_System\\swin_tiny_patch4_window7_224\\ImageNetMoBy224\\ckpt_epoch_40.pth'\n",
        "# project  r'E:\\models\\diagnosis\\Ch_IX_Diseases_of_Circulatory_System\\swin_tiny_patch4_window7_224\\MineMOBY224\\ckpt_epoch_47.pth'\n",
        "\n",
        "#Chapter VI Diseases of the Nervous System\n",
        "#imagenetsuper r'E:\\models\\diagnosis\\Ch_VI_DiseasesOfNervousSystem\\swin_tiny_patch4_window7_224\\ImageNetSupervised224\\ckpt_epoch_26.pth'\n",
        "#imagenetmoby r'E:\\models\\diagnosis\\Ch_VI_DiseasesOfNervousSystem\\swin_tiny_patch4_window7_224\\ImageNetMoBy224\\ckpt_epoch_33.pth'\n",
        "# project  r'E:\\models\\diagnosis\\Ch_VI_DiseasesOfNervousSystem\\swin_tiny_patch4_window7_224\\MineMOBY224\\ckpt_epoch_49.pth'\n",
        "\n",
        "#G30-G32 Other degenerative diseases of the nervous system \n",
        "#imagenetsuper r'E:\\models\\diagnosis\\G30-G32_Other_degenerative_diseases_of_nervous_system\\swin_tiny_patch4_window7_224\\ImageNetSupervised224\\ckpt_epoch_49.pth'\n",
        "#imagenetmoby r'E:\\models\\diagnosis\\G30-G32_Other_degenerative_diseases_of_nervous_system\\swin_tiny_patch4_window7_224\\ImageNetMoBy224\\ckpt_epoch_5.pth'\n",
        "# project  r'E:\\models\\diagnosis\\G30-G32_Other_degenerative_diseases_of_nervous_system\\swin_tiny_patch4_window7_224\\MineMOBY224\\ckpt_epoch_9.pth'\n",
        "\n",
        "#I10-I15 Hypertensive diseases \n",
        "#imagenetsuper r'E:\\models\\diagnosis\\I10-I15_Hypertensive_diseases\\swin_tiny_patch4_window7_224\\ImageNetSupervised224\\ckpt_epoch_45.pth'\n",
        "#imagenetmoby r'E:\\models\\diagnosis\\I10-I15_Hypertensive_diseases\\swin_tiny_patch4_window7_224\\ImageNetMoBy224\\ckpt_epoch_46.pth'\n",
        "# project  r'E:\\models\\diagnosis\\I10-I15_Hypertensive_diseases\\swin_tiny_patch4_window7_224\\MineMOBY224\\ckpt_epoch_42.pth'\n",
        "\n",
        "#I60-I69 Cerebrovascular diseases \n",
        "#imagenetsuper r'E:\\models\\diagnosis\\I60-I69_Cerebrovascular_diseases\\swin_tiny_patch4_window7_224\\ImageNetSupervised224\\ckpt_epoch_26.pth'\n",
        "#imagenetmoby r'E:\\models\\diagnosis\\I60-I69_Cerebrovascular_diseases\\swin_tiny_patch4_window7_224\\ImageNetMoBy224\\ckpt_epoch_47.pth'\n",
        "# project  r'E:\\models\\diagnosis\\I60-I69_Cerebrovascular_diseases\\swin_tiny_patch4_window7_224\\MineMOBY224\\ckpt_epoch_1.pth'\n",
        "\n",
        "#I80-I89 Diseases of veins, lymphatic vessels and nodes \n",
        "#imagenetsuper r'E:\\models\\diagnosis\\I80-I89_Diseases_of_veins_lymphatic_vessels_and_nodes\\swin_tiny_patch4_window7_224\\ImageNetSupervised224\\ckpt_epoch_47.pth'\n",
        "#imagenetmoby r'E:\\models\\diagnosis\\I80-I89_Diseases_of_veins_lymphatic_vessels_and_nodes\\swin_tiny_patch4_window7_224\\ImageNetMoBy224\\ckpt_epoch_32.pth'\n",
        "# project  r'E:\\models\\diagnosis\\I80-I89_Diseases_of_veins_lymphatic_vessels_and_nodes\\swin_tiny_patch4_window7_224\\MineMOBY224\\ckpt_epoch_45.pth'\n",
        "\n",
        "#N17-N19 Renal failure\n",
        "#imagenetsuper r'E:\\models\\diagnosis\\N17-N19_Renal_failure\\swin_tiny_patch4_window7_224\\ImageNetSupervised224\\ckpt_epoch_39.pth'\n",
        "#imagenetmoby r'E:\\models\\diagnosis\\N17-N19_Renal_failure\\swin_tiny_patch4_window7_224\\ImageNetMoBy224\\ckpt_epoch_41.pth'\n",
        "# project  r'E:\\models\\diagnosis\\N17-N19_Renal_failure\\swin_tiny_patch4_window7_224\\MineMOBY224\\ckpt_epoch_1.pth'"
      ]
    },
    {
      "cell_type": "markdown",
      "metadata": {
        "id": "BUsYlqUsK3t-"
      },
      "source": [
        "#Download dummy dataset and load csv\n",
        "Change data format to class folder stucture train & val"
      ]
    },
    {
      "cell_type": "code",
      "execution_count": null,
      "metadata": {
        "colab": {
          "base_uri": "https://localhost:8080/"
        },
        "id": "8bJKX7XwKpAP",
        "outputId": "bc864e67-ccad-45d0-c7cb-07aad5775cb3"
      },
      "outputs": [],
      "source": [
        "with open('kaggle.json', 'w') as writefile:\n",
        "    writefile.write('''{\"username\":\"gilescodes\",\"key\":\"f79796044c43da415594ce39514bc230\"}''')\n",
        "\n",
        "! pip install kaggle\n",
        "! mkdir ~/.kaggle\n",
        "! cp kaggle.json ~/.kaggle/\n",
        "! chmod 600 ~/.kaggle/kaggle.json\n",
        "! mkdir competitionKaggle\n",
        "! pip install --upgrade --force-reinstall --no-deps kaggle\n",
        "\n",
        "#https://www.kaggle.com/benjaminwarner/resized-2015-2019-blindness-detection-images\n",
        "!kaggle datasets download -p /content/competitionKaggle/ -d benjaminwarner/resized-2015-2019-blindness-detection-images\n",
        "\n",
        "!unzip /content/competitionKaggle/resized-2015-2019-blindness-detection-images.zip -d /content/competitionKaggle/\n",
        "!rm /content/competitionKaggle/resized-2015-2019-blindness-detection-images.zip"
      ]
    },
    {
      "cell_type": "code",
      "execution_count": null,
      "metadata": {
        "id": "xCrlcBfkM3ku"
      },
      "outputs": [],
      "source": [
        "import pandas as pd\n",
        "\n",
        "train = pd.read_csv(\"/content/competitionKaggle/labels/trainLabels15.csv\")#\"/content/competitionKaggle/trainLabels.csv\")#\"../input/com3025-2022-image-classification-challenge/train.csv\"\n",
        "train = train.astype('string')\n",
        "\n",
        "test = pd.read_csv(\"/content/competitionKaggle/labels/testLabels15.csv\")#\"/content/competitionKaggle/trainLabels.csv\")#\"../input/com3025-2022-image-classification-challenge/train.csv\"\n",
        "test = test.astype('string')\n",
        "\n",
        "train2 = pd.read_csv(\"/content/competitionKaggle/labels/trainLabels19.csv\")#\"/content/competitionKaggle/trainLabels.csv\")#\"../input/com3025-2022-image-classification-challenge/train.csv\"\n",
        "train2 = train2.astype('string')\n",
        "\n",
        "\n",
        "def append_ext(fn):#add file extention to filenames\n",
        "    return fn+\".jpg\"#\".jpeg\"#check converted file extention\n",
        "\n",
        "train[\"image\"]=train[\"image\"].apply(append_ext)\n",
        "\n",
        "test[\"image\"]=test[\"image\"].apply(append_ext)\n",
        "\n",
        "train2[\"id_code\"]=train2[\"id_code\"].apply(append_ext)\n",
        "\n",
        "#SAMPLE SMALLER FOR QUICK RUNS --------------------------------------------------------------------------------------------------------------------------------------------\n",
        "#and making demo dataset\n",
        "# train = train.sample(1000)\n",
        "# test = test.sample(1000)\n",
        "# train2 = train2.sample(1000)"
      ]
    },
    {
      "cell_type": "code",
      "execution_count": null,
      "metadata": {
        "id": "X36d4CxTN4Js"
      },
      "outputs": [],
      "source": [
        "!mkdir /content/competitionKaggle/train\n",
        "!mkdir /content/competitionKaggle/val"
      ]
    },
    {
      "cell_type": "code",
      "execution_count": null,
      "metadata": {
        "id": "PFqxtwAOKLWn"
      },
      "outputs": [],
      "source": [
        "#very quick\n",
        "import os\n",
        "import shutil\n",
        "\n",
        "def createFolderTreeFromDataframe(df, folder, source, ycolumn, imageCol):\n",
        "  for index, row in df.iterrows():#for every row\n",
        "    image_class = row[ycolumn]#load the class\n",
        "    if not os.path.exists(f'/content/competitionKaggle/{folder}/{image_class}'):#create class folder if it doesnt exist\n",
        "      os.makedirs(f'/content/competitionKaggle/{folder}/{image_class}')\n",
        "    image_name = row[imageCol]#load the filename\n",
        "    shutil.move(f\"/content/competitionKaggle/{source}/{image_name}\", f\"/content/competitionKaggle/{folder}/{image_class}/\")#move that file to the new dest\n",
        "\n",
        "createFolderTreeFromDataframe(train, \"train\", \"resized train 15\",'level', 'image')\n",
        "createFolderTreeFromDataframe(test, \"train\", \"resized test 15\",'level', 'image')#put test in train as well\n",
        "createFolderTreeFromDataframe(train2, \"train\", \"resized train 19\", 'diagnosis', 'id_code')#put test in train as well\n",
        "#92364 total images\n",
        "\n",
        "# createFolderTreeFromDataframe(test, \"val\", \"resized test 15\")"
      ]
    },
    {
      "cell_type": "code",
      "execution_count": null,
      "metadata": {
        "id": "DTRpM53diRgE"
      },
      "outputs": [],
      "source": [
        "#----------------------put 20% of images in val\n",
        "import os\n",
        "import random\n",
        "random.seed(0)\n",
        "\n",
        "for i in range(5):\n",
        "  files = os.listdir(f\"/content/competitionKaggle/train/{i}\")\n",
        "  random.shuffle(files)\n",
        "  files = files[:int(len(files)*0.2)]\n",
        "  for fileName in files:\n",
        "    if not os.path.exists(f'/content/competitionKaggle/val/{i}'):#create class folder if it doesnt exist\n",
        "      os.makedirs(f'/content/competitionKaggle/val/{i}')\n",
        "    shutil.move(f\"/content/competitionKaggle/train/{i}/{fileName}\", f\"/content/competitionKaggle/val/{i}/\")#move that file to the new dest"
      ]
    },
    {
      "cell_type": "markdown",
      "metadata": {
        "id": "WB8ApmUK6hzc"
      },
      "source": [
        "##make demo datset"
      ]
    },
    {
      "cell_type": "code",
      "execution_count": null,
      "metadata": {
        "id": "7Rajm3GE4xKB"
      },
      "outputs": [],
      "source": [
        "#move val and train to new dataset folder\n",
        "# !mkdir /content/competitionKaggle/demodataset\n",
        "# !mv /content/competitionKaggle/train /content/competitionKaggle/demodataset\n",
        "# !mv /content/competitionKaggle/val /content/competitionKaggle/demodataset"
      ]
    },
    {
      "cell_type": "code",
      "execution_count": null,
      "metadata": {
        "id": "dQaXwsCA4NDt"
      },
      "outputs": [],
      "source": [
        "# #making demo dataset - delete after and not run again\n",
        "# !kaggle datasets init -p /content/competitionKaggle/demodataset\n",
        "# #change json metadata"
      ]
    },
    {
      "cell_type": "code",
      "execution_count": null,
      "metadata": {
        "id": "ImEVLwDW4i99"
      },
      "outputs": [],
      "source": [
        "# !kaggle datasets create -p /content/competitionKaggle/demodataset/ --dir-mode zip"
      ]
    },
    {
      "cell_type": "markdown",
      "metadata": {
        "id": "U-eypuoz3Mbm"
      },
      "source": [
        "#Load data using dataloader"
      ]
    },
    {
      "cell_type": "code",
      "execution_count": 3,
      "metadata": {
        "id": "szsk7j9d3itH"
      },
      "outputs": [],
      "source": [
        "import torchvision\n",
        "import torch"
      ]
    },
    {
      "cell_type": "code",
      "execution_count": 34,
      "metadata": {
        "id": "wyewMHgT6Ahj"
      },
      "outputs": [],
      "source": [
        "#Image norm transform\n",
        "import torchvision.transforms as transforms\n",
        "\n",
        "\n",
        "IMAGENET_DEFAULT_MEAN = [0.485, 0.456, 0.406]\n",
        "IMAGENET_DEFAULT_STD = [0.229, 0.224, 0.225]\n",
        "\n",
        "NORMtransform = transforms.Compose([\n",
        "    transforms.Resize((imageSizePx, imageSizePx)),\n",
        "    transforms.ToTensor(),\n",
        "    transforms.Normalize(mean=IMAGENET_DEFAULT_MEAN, std=IMAGENET_DEFAULT_STD),\n",
        "])\n",
        "\n",
        "# from timm.data.transforms import _pil_interp\n",
        "# t = []\n",
        "# if True:#config.TEST.CROP:\n",
        "#     size = int((256 / 224) * imageSizePx)\n",
        "#     t.append(\n",
        "#         transforms.Resize(size, interpolation=_pil_interp('bicubic')),\n",
        "#         # to maintain same ratio w.r.t. 224 images\n",
        "#     )\n",
        "#     t.append(transforms.CenterCrop(imageSizePx))\n",
        "# else:\n",
        "#     t.append(\n",
        "#         transforms.Resize((imageSizePx, imageSizePx),\n",
        "#                           interpolation=_pil_interp('bicubic'))\n",
        "#     )\n",
        "\n",
        "# t.append(transforms.ToTensor())\n",
        "# t.append(transforms.Normalize(IMAGENET_DEFAULT_MEAN, IMAGENET_DEFAULT_STD))\n",
        "# OtherTransform = transforms.Compose(t)"
      ]
    },
    {
      "cell_type": "code",
      "execution_count": 207,
      "metadata": {
        "id": "VkBwfUFl3RYs"
      },
      "outputs": [],
      "source": [
        "DR_VAL_DATA = torchvision.datasets.ImageFolder(r'E:\\Fundus images\\G30-G32_Other degenerative_diseases_of_nervous_system\\val',  transform = NORMtransform,)\n",
        "data_loader = torch.utils.data.DataLoader(DR_VAL_DATA,\n",
        "                                          batch_size=batchSize,\n",
        "                                          shuffle=False,\n",
        "                                          # transform = NORMtransform,\n",
        "                                          # num_workers=args.nThreads\n",
        "                                          )\n",
        "\n",
        "# torchvision.datasets.ImageFolder(root: str, transform: Optional[Callable] = None, target_transform: Optional[Callable] = None, loader: Callable[[str], Any] = <function default_loader>, is_valid_file: Optional[Callable[[str], bool]] = None)\n",
        "# root (string) – Root directory path.\n",
        "\n",
        "# transform (callable, optional) – A function/transform that takes in an PIL image and returns a transformed version. E.g, transforms.RandomCrop\n",
        "\n",
        "# target_transform (callable, optional) – A function/transform that takes in the target and transforms it.\n",
        "\n",
        "# loader (callable, optional) – A function to load an image given its path.\n",
        "\n",
        "# is_valid_file – A function that takes path of an Image file and check if the file is a valid file (used to check of corrupt files)"
      ]
    },
    {
      "cell_type": "markdown",
      "metadata": {
        "id": "A1gUzogp2zVT"
      },
      "source": [
        "#Model Code"
      ]
    },
    {
      "cell_type": "code",
      "execution_count": 8,
      "metadata": {
        "colab": {
          "base_uri": "https://localhost:8080/"
        },
        "id": "IJ3hsrZf_ImG",
        "outputId": "d625ebd7-2108-4771-8212-6b9316de02a6"
      },
      "outputs": [
        {
          "name": "stdout",
          "output_type": "stream",
          "text": [
            "Requirement already satisfied: timm in c:\\programdata\\anaconda3\\envs\\swinex\\lib\\site-packages (0.4.12)\n",
            "Requirement already satisfied: torchvision in c:\\programdata\\anaconda3\\envs\\swinex\\lib\\site-packages (from timm) (0.12.0)\n",
            "Requirement already satisfied: torch>=1.4 in c:\\programdata\\anaconda3\\envs\\swinex\\lib\\site-packages (from timm) (1.11.0)\n",
            "Requirement already satisfied: typing_extensions in c:\\programdata\\anaconda3\\envs\\swinex\\lib\\site-packages (from torch>=1.4->timm) (3.10.0.2)\n",
            "Requirement already satisfied: numpy in c:\\programdata\\anaconda3\\envs\\swinex\\lib\\site-packages (from torchvision->timm) (1.20.3)\n",
            "Requirement already satisfied: requests in c:\\programdata\\anaconda3\\envs\\swinex\\lib\\site-packages (from torchvision->timm) (2.26.0)\n",
            "Requirement already satisfied: pillow!=8.3.*,>=5.3.0 in c:\\programdata\\anaconda3\\envs\\swinex\\lib\\site-packages (from torchvision->timm) (8.4.0)\n",
            "Requirement already satisfied: idna<4,>=2.5 in c:\\programdata\\anaconda3\\envs\\swinex\\lib\\site-packages (from requests->torchvision->timm) (3.2)\n",
            "Requirement already satisfied: urllib3<1.27,>=1.21.1 in c:\\programdata\\anaconda3\\envs\\swinex\\lib\\site-packages (from requests->torchvision->timm) (1.26.7)\n",
            "Requirement already satisfied: charset-normalizer~=2.0.0 in c:\\programdata\\anaconda3\\envs\\swinex\\lib\\site-packages (from requests->torchvision->timm) (2.0.4)\n",
            "Requirement already satisfied: certifi>=2017.4.17 in c:\\programdata\\anaconda3\\envs\\swinex\\lib\\site-packages (from requests->torchvision->timm) (2021.10.8)\n"
          ]
        }
      ],
      "source": [
        "!pip install timm"
      ]
    },
    {
      "cell_type": "code",
      "execution_count": 6,
      "metadata": {
        "id": "81C6qBps_HVv"
      },
      "outputs": [],
      "source": [
        "import timm"
      ]
    },
    {
      "cell_type": "code",
      "execution_count": 15,
      "metadata": {
        "id": "tf3yvgQo2xjy"
      },
      "outputs": [],
      "source": [
        "# --------------------------------------------------------\n",
        "# Swin Transformer\n",
        "# Copyright (c) 2021 Microsoft\n",
        "# Licensed under The MIT License [see LICENSE for details]\n",
        "# Written by Ze Liu, Yutong Lin, Yixuan Wei\n",
        "# --------------------------------------------------------\n",
        "\n",
        "import torch\n",
        "import torch.nn as nn\n",
        "import torch.nn.functional as F\n",
        "import torch.utils.checkpoint as checkpoint\n",
        "import numpy as np\n",
        "from timm.models.layers import DropPath, to_2tuple, trunc_normal_\n",
        "\n",
        "\n",
        "class Mlp(nn.Module):\n",
        "    def __init__(self, in_features, hidden_features=None, out_features=None, act_layer=nn.GELU, drop=0.):\n",
        "        super().__init__()\n",
        "        out_features = out_features or in_features\n",
        "        hidden_features = hidden_features or in_features\n",
        "        self.fc1 = nn.Linear(in_features, hidden_features)\n",
        "        self.act = act_layer()\n",
        "        self.fc2 = nn.Linear(hidden_features, out_features)\n",
        "        self.drop = nn.Dropout(drop)\n",
        "\n",
        "    def forward(self, x):\n",
        "        x = self.fc1(x)\n",
        "        x = self.act(x)\n",
        "        x = self.drop(x)\n",
        "        x = self.fc2(x)\n",
        "        x = self.drop(x)\n",
        "        return x\n",
        "\n",
        "\n",
        "def window_partition(x, window_size):\n",
        "    \"\"\"\n",
        "    Args:\n",
        "        x: (B, H, W, C)\n",
        "        window_size (int): window size\n",
        "    Returns:\n",
        "        windows: (num_windows*B, window_size, window_size, C)\n",
        "    \"\"\"\n",
        "    B, H, W, C = x.shape\n",
        "    x = x.view(B, H // window_size, window_size, W // window_size, window_size, C)\n",
        "    windows = x.permute(0, 1, 3, 2, 4, 5).contiguous().view(-1, window_size, window_size, C)\n",
        "    return windows\n",
        "\n",
        "\n",
        "def window_reverse(windows, window_size, H, W):\n",
        "    \"\"\"\n",
        "    Args:\n",
        "        windows: (num_windows*B, window_size, window_size, C)\n",
        "        window_size (int): Window size\n",
        "        H (int): Height of image\n",
        "        W (int): Width of image\n",
        "    Returns:\n",
        "        x: (B, H, W, C)\n",
        "    \"\"\"\n",
        "    B = int(windows.shape[0] / (H * W / window_size / window_size))\n",
        "    x = windows.view(B, H // window_size, W // window_size, window_size, window_size, -1)\n",
        "    x = x.permute(0, 1, 3, 2, 4, 5).contiguous().view(B, H, W, -1)\n",
        "    return x\n",
        "\n",
        "\n",
        "class WindowAttention(nn.Module):\n",
        "    r\"\"\" Window based multi-head self attention (W-MSA) module with relative position bias.\n",
        "    It supports both of shifted and non-shifted window.\n",
        "    Args:\n",
        "        dim (int): Number of input channels.\n",
        "        window_size (tuple[int]): The height and width of the window.\n",
        "        num_heads (int): Number of attention heads.\n",
        "        qkv_bias (bool, optional):  If True, add a learnable bias to query, key, value. Default: True\n",
        "        qk_scale (float | None, optional): Override default qk scale of head_dim ** -0.5 if set\n",
        "        attn_drop (float, optional): Dropout ratio of attention weight. Default: 0.0\n",
        "        proj_drop (float, optional): Dropout ratio of output. Default: 0.0\n",
        "    \"\"\"\n",
        "\n",
        "    def __init__(self, dim, window_size, num_heads, qkv_bias=True, qk_scale=None, attn_drop=0., proj_drop=0.):\n",
        "\n",
        "        super().__init__()\n",
        "        self.dim = dim\n",
        "        self.window_size = window_size  # Wh, Ww\n",
        "        self.num_heads = num_heads\n",
        "        head_dim = dim // num_heads\n",
        "        self.scale = qk_scale or head_dim ** -0.5\n",
        "\n",
        "        # define a parameter table of relative position bias\n",
        "        self.relative_position_bias_table = nn.Parameter(\n",
        "            torch.zeros((2 * window_size[0] - 1) * (2 * window_size[1] - 1), num_heads))  # 2*Wh-1 * 2*Ww-1, nH\n",
        "\n",
        "        # get pair-wise relative position index for each token inside the window\n",
        "        coords_h = torch.arange(self.window_size[0])\n",
        "        coords_w = torch.arange(self.window_size[1])\n",
        "        coords = torch.stack(torch.meshgrid([coords_h, coords_w]))  # 2, Wh, Ww\n",
        "        coords_flatten = torch.flatten(coords, 1)  # 2, Wh*Ww\n",
        "        relative_coords = coords_flatten[:, :, None] - coords_flatten[:, None, :]  # 2, Wh*Ww, Wh*Ww\n",
        "        relative_coords = relative_coords.permute(1, 2, 0).contiguous()  # Wh*Ww, Wh*Ww, 2\n",
        "        relative_coords[:, :, 0] += self.window_size[0] - 1  # shift to start from 0\n",
        "        relative_coords[:, :, 1] += self.window_size[1] - 1\n",
        "        relative_coords[:, :, 0] *= 2 * self.window_size[1] - 1\n",
        "        relative_position_index = relative_coords.sum(-1)  # Wh*Ww, Wh*Ww\n",
        "        self.register_buffer(\"relative_position_index\", relative_position_index)\n",
        "\n",
        "        self.qkv = nn.Linear(dim, dim * 3, bias=qkv_bias)\n",
        "        self.attn_drop = nn.Dropout(attn_drop)\n",
        "        self.proj = nn.Linear(dim, dim)\n",
        "        self.proj_drop = nn.Dropout(proj_drop)\n",
        "\n",
        "        trunc_normal_(self.relative_position_bias_table, std=.02)\n",
        "        self.softmax = nn.Softmax(dim=-1)\n",
        "\n",
        "    def forward(self, x, mask=None):\n",
        "        \"\"\"\n",
        "        Args:\n",
        "            x: input features with shape of (num_windows*B, N, C)\n",
        "            mask: (0/-inf) mask with shape of (num_windows, Wh*Ww, Wh*Ww) or None\n",
        "        \"\"\"\n",
        "        B_, N, C = x.shape\n",
        "        qkv = self.qkv(x).reshape(B_, N, 3, self.num_heads, C // self.num_heads).permute(2, 0, 3, 1, 4)\n",
        "        q, k, v = qkv[0], qkv[1], qkv[2]  # make torchscript happy (cannot use tensor as tuple)\n",
        "\n",
        "        q = q * self.scale\n",
        "        attn = (q @ k.transpose(-2, -1))\n",
        "\n",
        "        relative_position_bias = self.relative_position_bias_table[self.relative_position_index.view(-1)].view(\n",
        "            self.window_size[0] * self.window_size[1], self.window_size[0] * self.window_size[1], -1)  # Wh*Ww,Wh*Ww,nH\n",
        "        relative_position_bias = relative_position_bias.permute(2, 0, 1).contiguous()  # nH, Wh*Ww, Wh*Ww\n",
        "        attn = attn + relative_position_bias.unsqueeze(0)\n",
        "\n",
        "        if mask is not None:\n",
        "            nW = mask.shape[0]\n",
        "            attn = attn.view(B_ // nW, nW, self.num_heads, N, N) + mask.unsqueeze(1).unsqueeze(0)\n",
        "            attn = attn.view(-1, self.num_heads, N, N)\n",
        "            attn = self.softmax(attn)\n",
        "        else:\n",
        "            attn = self.softmax(attn)\n",
        "\n",
        "        attn = self.attn_drop(attn)\n",
        "\n",
        "        x = (attn @ v).transpose(1, 2).reshape(B_, N, C)\n",
        "        x = self.proj(x)\n",
        "        x = self.proj_drop(x)\n",
        "        return x\n",
        "\n",
        "    def extra_repr(self) -> str:\n",
        "        return f'dim={self.dim}, window_size={self.window_size}, num_heads={self.num_heads}'\n",
        "\n",
        "    def flops(self, N):\n",
        "        # calculate flops for 1 window with token length of N\n",
        "        flops = 0\n",
        "        # qkv = self.qkv(x)\n",
        "        flops += N * self.dim * 3 * self.dim\n",
        "        # attn = (q @ k.transpose(-2, -1))\n",
        "        flops += self.num_heads * N * (self.dim // self.num_heads) * N\n",
        "        #  x = (attn @ v)\n",
        "        flops += self.num_heads * N * N * (self.dim // self.num_heads)\n",
        "        # x = self.proj(x)\n",
        "        flops += N * self.dim * self.dim\n",
        "        return flops\n",
        "\n",
        "\n",
        "class SwinTransformerBlock(nn.Module):\n",
        "    r\"\"\" Swin Transformer Block.\n",
        "    Args:\n",
        "        dim (int): Number of input channels.\n",
        "        input_resolution (tuple[int]): Input resulotion.\n",
        "        num_heads (int): Number of attention heads.\n",
        "        window_size (int): Window size.\n",
        "        shift_size (int): Shift size for SW-MSA.\n",
        "        mlp_ratio (float): Ratio of mlp hidden dim to embedding dim.\n",
        "        qkv_bias (bool, optional): If True, add a learnable bias to query, key, value. Default: True\n",
        "        qk_scale (float | None, optional): Override default qk scale of head_dim ** -0.5 if set.\n",
        "        drop (float, optional): Dropout rate. Default: 0.0\n",
        "        attn_drop (float, optional): Attention dropout rate. Default: 0.0\n",
        "        drop_path (float, optional): Stochastic depth rate. Default: 0.0\n",
        "        act_layer (nn.Module, optional): Activation layer. Default: nn.GELU\n",
        "        norm_layer (nn.Module, optional): Normalization layer.  Default: nn.LayerNorm\n",
        "    \"\"\"\n",
        "\n",
        "    def __init__(self, dim, input_resolution, num_heads, window_size=7, shift_size=0,\n",
        "                 mlp_ratio=4., qkv_bias=True, qk_scale=None, drop=0., attn_drop=0., drop_path=0.,\n",
        "                 act_layer=nn.GELU, norm_layer=nn.LayerNorm):\n",
        "        super().__init__()\n",
        "        self.dim = dim\n",
        "        self.input_resolution = input_resolution\n",
        "        self.num_heads = num_heads\n",
        "        self.window_size = window_size\n",
        "        self.shift_size = shift_size\n",
        "        self.mlp_ratio = mlp_ratio\n",
        "        if min(self.input_resolution) <= self.window_size:\n",
        "            # if window size is larger than input resolution, we don't partition windows\n",
        "            self.shift_size = 0\n",
        "            self.window_size = min(self.input_resolution)\n",
        "        assert 0 <= self.shift_size < self.window_size, \"shift_size must in 0-window_size\"\n",
        "\n",
        "        self.norm1 = norm_layer(dim)\n",
        "        self.attn = WindowAttention(\n",
        "            dim, window_size=to_2tuple(self.window_size), num_heads=num_heads,\n",
        "            qkv_bias=qkv_bias, qk_scale=qk_scale, attn_drop=attn_drop, proj_drop=drop)\n",
        "\n",
        "        self.drop_path = DropPath(drop_path) if drop_path > 0. else nn.Identity()\n",
        "        self.norm2 = norm_layer(dim)\n",
        "        mlp_hidden_dim = int(dim * mlp_ratio)\n",
        "        self.mlp = Mlp(in_features=dim, hidden_features=mlp_hidden_dim, act_layer=act_layer, drop=drop)\n",
        "\n",
        "        if self.shift_size > 0:\n",
        "            # calculate attention mask for SW-MSA\n",
        "            H, W = self.input_resolution\n",
        "            img_mask = torch.zeros((1, H, W, 1))  # 1 H W 1\n",
        "            h_slices = (slice(0, -self.window_size),\n",
        "                        slice(-self.window_size, -self.shift_size),\n",
        "                        slice(-self.shift_size, None))\n",
        "            w_slices = (slice(0, -self.window_size),\n",
        "                        slice(-self.window_size, -self.shift_size),\n",
        "                        slice(-self.shift_size, None))\n",
        "            cnt = 0\n",
        "            for h in h_slices:\n",
        "                for w in w_slices:\n",
        "                    img_mask[:, h, w, :] = cnt\n",
        "                    cnt += 1\n",
        "\n",
        "            mask_windows = window_partition(img_mask, self.window_size)  # nW, window_size, window_size, 1\n",
        "            mask_windows = mask_windows.view(-1, self.window_size * self.window_size)\n",
        "            attn_mask = mask_windows.unsqueeze(1) - mask_windows.unsqueeze(2)\n",
        "            attn_mask = attn_mask.masked_fill(attn_mask != 0, float(-100.0)).masked_fill(attn_mask == 0, float(0.0))\n",
        "        else:\n",
        "            attn_mask = None\n",
        "\n",
        "        self.register_buffer(\"attn_mask\", attn_mask)\n",
        "\n",
        "    def forward(self, x):\n",
        "        H, W = self.input_resolution\n",
        "        B, L, C = x.shape\n",
        "        assert L == H * W, \"input feature has wrong size\"\n",
        "\n",
        "        shortcut = x\n",
        "        x = self.norm1(x)\n",
        "        x = x.view(B, H, W, C)\n",
        "\n",
        "        # cyclic shift\n",
        "        if self.shift_size > 0:\n",
        "            shifted_x = torch.roll(x, shifts=(-self.shift_size, -self.shift_size), dims=(1, 2))\n",
        "        else:\n",
        "            shifted_x = x\n",
        "\n",
        "        # partition windows\n",
        "        x_windows = window_partition(shifted_x, self.window_size)  # nW*B, window_size, window_size, C\n",
        "        x_windows = x_windows.view(-1, self.window_size * self.window_size, C)  # nW*B, window_size*window_size, C\n",
        "\n",
        "        # W-MSA/SW-MSA\n",
        "        attn_windows = self.attn(x_windows, mask=self.attn_mask)  # nW*B, window_size*window_size, C\n",
        "\n",
        "        # merge windows\n",
        "        attn_windows = attn_windows.view(-1, self.window_size, self.window_size, C)\n",
        "        shifted_x = window_reverse(attn_windows, self.window_size, H, W)  # B H' W' C\n",
        "\n",
        "        # reverse cyclic shift\n",
        "        if self.shift_size > 0:\n",
        "            x = torch.roll(shifted_x, shifts=(self.shift_size, self.shift_size), dims=(1, 2))\n",
        "        else:\n",
        "            x = shifted_x\n",
        "        x = x.view(B, H * W, C)\n",
        "\n",
        "        # FFN\n",
        "        x = shortcut + self.drop_path(x)\n",
        "        x = x + self.drop_path(self.mlp(self.norm2(x)))\n",
        "\n",
        "        return x\n",
        "\n",
        "    def extra_repr(self) -> str:\n",
        "        return f\"dim={self.dim}, input_resolution={self.input_resolution}, num_heads={self.num_heads}, \" \\\n",
        "               f\"window_size={self.window_size}, shift_size={self.shift_size}, mlp_ratio={self.mlp_ratio}\"\n",
        "\n",
        "    def flops(self):\n",
        "        flops = 0\n",
        "        H, W = self.input_resolution\n",
        "        # norm1\n",
        "        flops += self.dim * H * W\n",
        "        # W-MSA/SW-MSA\n",
        "        nW = H * W / self.window_size / self.window_size\n",
        "        flops += nW * self.attn.flops(self.window_size * self.window_size)\n",
        "        # mlp\n",
        "        flops += 2 * H * W * self.dim * self.dim * self.mlp_ratio\n",
        "        # norm2\n",
        "        flops += self.dim * H * W\n",
        "        return flops\n",
        "\n",
        "\n",
        "class PatchMerging(nn.Module):\n",
        "    r\"\"\" Patch Merging Layer.\n",
        "    Args:\n",
        "        input_resolution (tuple[int]): Resolution of input feature.\n",
        "        dim (int): Number of input channels.\n",
        "        norm_layer (nn.Module, optional): Normalization layer.  Default: nn.LayerNorm\n",
        "    \"\"\"\n",
        "\n",
        "    def __init__(self, input_resolution, dim, norm_layer=nn.LayerNorm):\n",
        "        super().__init__()\n",
        "        self.input_resolution = input_resolution\n",
        "        self.dim = dim\n",
        "        self.reduction = nn.Linear(4 * dim, 2 * dim, bias=False)\n",
        "        self.norm = norm_layer(4 * dim)\n",
        "\n",
        "    def forward(self, x):\n",
        "        \"\"\"\n",
        "        x: B, H*W, C\n",
        "        \"\"\"\n",
        "        H, W = self.input_resolution\n",
        "        B, L, C = x.shape\n",
        "        assert L == H * W, \"input feature has wrong size\"\n",
        "        assert H % 2 == 0 and W % 2 == 0, f\"x size ({H}*{W}) are not even.\"\n",
        "\n",
        "        x = x.view(B, H, W, C)\n",
        "\n",
        "        x0 = x[:, 0::2, 0::2, :]  # B H/2 W/2 C\n",
        "        x1 = x[:, 1::2, 0::2, :]  # B H/2 W/2 C\n",
        "        x2 = x[:, 0::2, 1::2, :]  # B H/2 W/2 C\n",
        "        x3 = x[:, 1::2, 1::2, :]  # B H/2 W/2 C\n",
        "        x = torch.cat([x0, x1, x2, x3], -1)  # B H/2 W/2 4*C\n",
        "        x = x.view(B, -1, 4 * C)  # B H/2*W/2 4*C\n",
        "\n",
        "        x = self.norm(x)\n",
        "        x = self.reduction(x)\n",
        "\n",
        "        return x\n",
        "\n",
        "    def extra_repr(self) -> str:\n",
        "        return f\"input_resolution={self.input_resolution}, dim={self.dim}\"\n",
        "\n",
        "    def flops(self):\n",
        "        H, W = self.input_resolution\n",
        "        flops = H * W * self.dim\n",
        "        flops += (H // 2) * (W // 2) * 4 * self.dim * 2 * self.dim\n",
        "        return flops\n",
        "\n",
        "\n",
        "class BasicLayer(nn.Module):\n",
        "    \"\"\" A basic Swin Transformer layer for one stage.\n",
        "    Args:\n",
        "        dim (int): Number of input channels.\n",
        "        input_resolution (tuple[int]): Input resolution.\n",
        "        depth (int): Number of blocks.\n",
        "        num_heads (int): Number of attention heads.\n",
        "        window_size (int): Local window size.\n",
        "        mlp_ratio (float): Ratio of mlp hidden dim to embedding dim.\n",
        "        qkv_bias (bool, optional): If True, add a learnable bias to query, key, value. Default: True\n",
        "        qk_scale (float | None, optional): Override default qk scale of head_dim ** -0.5 if set.\n",
        "        drop (float, optional): Dropout rate. Default: 0.0\n",
        "        attn_drop (float, optional): Attention dropout rate. Default: 0.0\n",
        "        drop_path (float | tuple[float], optional): Stochastic depth rate. Default: 0.0\n",
        "        norm_layer (nn.Module, optional): Normalization layer. Default: nn.LayerNorm\n",
        "        downsample (nn.Module | None, optional): Downsample layer at the end of the layer. Default: None\n",
        "        use_checkpoint (bool): Whether to use checkpointing to save memory. Default: False.\n",
        "    \"\"\"\n",
        "\n",
        "    def __init__(self, dim, input_resolution, depth, num_heads, window_size,\n",
        "                 mlp_ratio=4., qkv_bias=True, qk_scale=None, drop=0., attn_drop=0.,\n",
        "                 drop_path=0., norm_layer=nn.LayerNorm, downsample=None, use_checkpoint=False):\n",
        "\n",
        "        super().__init__()\n",
        "        self.dim = dim\n",
        "        self.input_resolution = input_resolution\n",
        "        self.depth = depth\n",
        "        self.use_checkpoint = use_checkpoint\n",
        "\n",
        "        # build blocks\n",
        "        self.blocks = nn.ModuleList([\n",
        "            SwinTransformerBlock(dim=dim, input_resolution=input_resolution,\n",
        "                                 num_heads=num_heads, window_size=window_size,\n",
        "                                 shift_size=0 if (i % 2 == 0) else window_size // 2,\n",
        "                                 mlp_ratio=mlp_ratio,\n",
        "                                 qkv_bias=qkv_bias, qk_scale=qk_scale,\n",
        "                                 drop=drop, attn_drop=attn_drop,\n",
        "                                 drop_path=drop_path[i] if isinstance(drop_path, list) else drop_path,\n",
        "                                 norm_layer=norm_layer)\n",
        "            for i in range(depth)])\n",
        "\n",
        "        # patch merging layer\n",
        "        if downsample is not None:\n",
        "            self.downsample = downsample(input_resolution, dim=dim, norm_layer=norm_layer)\n",
        "        else:\n",
        "            self.downsample = None\n",
        "\n",
        "    def forward(self, x):\n",
        "        for blk in self.blocks:\n",
        "            if self.use_checkpoint:\n",
        "                x = checkpoint.checkpoint(blk, x)\n",
        "            else:\n",
        "                x = blk(x)\n",
        "        if self.downsample is not None:\n",
        "            x = self.downsample(x)\n",
        "        return x\n",
        "\n",
        "    def extra_repr(self) -> str:\n",
        "        return f\"dim={self.dim}, input_resolution={self.input_resolution}, depth={self.depth}\"\n",
        "\n",
        "    def flops(self):\n",
        "        flops = 0\n",
        "        for blk in self.blocks:\n",
        "            flops += blk.flops()\n",
        "        if self.downsample is not None:\n",
        "            flops += self.downsample.flops()\n",
        "        return flops\n",
        "\n",
        "\n",
        "class PatchEmbed(nn.Module):\n",
        "    r\"\"\" Image to Patch Embedding\n",
        "    Args:\n",
        "        img_size (int): Image size.  Default: 224.\n",
        "        patch_size (int): Patch token size. Default: 4.\n",
        "        in_chans (int): Number of input image channels. Default: 3.\n",
        "        embed_dim (int): Number of linear projection output channels. Default: 96.\n",
        "        norm_layer (nn.Module, optional): Normalization layer. Default: None\n",
        "    \"\"\"\n",
        "\n",
        "    def __init__(self, img_size=224, patch_size=4, in_chans=3, embed_dim=96, norm_layer=None):\n",
        "        super().__init__()\n",
        "        img_size = to_2tuple(img_size)\n",
        "        patch_size = to_2tuple(patch_size)\n",
        "        patches_resolution = [img_size[0] // patch_size[0], img_size[1] // patch_size[1]]\n",
        "        self.img_size = img_size\n",
        "        self.patch_size = patch_size\n",
        "        self.patches_resolution = patches_resolution\n",
        "        self.num_patches = patches_resolution[0] * patches_resolution[1]\n",
        "\n",
        "        self.in_chans = in_chans\n",
        "        self.embed_dim = embed_dim\n",
        "\n",
        "        self.proj = nn.Conv2d(in_chans, embed_dim, kernel_size=patch_size, stride=patch_size)\n",
        "        if norm_layer is not None:\n",
        "            self.norm = norm_layer(embed_dim)\n",
        "        else:\n",
        "            self.norm = None\n",
        "\n",
        "    def forward(self, x):\n",
        "        B, C, H, W = x.shape\n",
        "        # FIXME look at relaxing size constraints\n",
        "        assert H == self.img_size[0] and W == self.img_size[1], \\\n",
        "            f\"Input image size ({H}*{W}) doesn't match model ({self.img_size[0]}*{self.img_size[1]}).\"\n",
        "        x = self.proj(x).flatten(2).transpose(1, 2)  # B Ph*Pw C\n",
        "        if self.norm is not None:\n",
        "            x = self.norm(x)\n",
        "        return x\n",
        "\n",
        "    def flops(self):\n",
        "        Ho, Wo = self.patches_resolution\n",
        "        flops = Ho * Wo * self.embed_dim * self.in_chans * (self.patch_size[0] * self.patch_size[1])\n",
        "        if self.norm is not None:\n",
        "            flops += Ho * Wo * self.embed_dim\n",
        "        return flops\n",
        "\n",
        "\n",
        "class SwinTransformer(nn.Module):\n",
        "    r\"\"\" Swin Transformer\n",
        "        A PyTorch impl of : `Swin Transformer: Hierarchical Vision Transformer using Shifted Windows`  -\n",
        "          https://arxiv.org/pdf/2103.14030\n",
        "    Args:\n",
        "        img_size (int | tuple(int)): Input image size. Default 224\n",
        "        patch_size (int | tuple(int)): Patch size. Default: 4\n",
        "        in_chans (int): Number of input image channels. Default: 3\n",
        "        num_classes (int): Number of classes for classification head. Default: 1000\n",
        "        embed_dim (int): Patch embedding dimension. Default: 96\n",
        "        depths (tuple(int)): Depth of each Swin Transformer layer.\n",
        "        num_heads (tuple(int)): Number of attention heads in different layers.\n",
        "        window_size (int): Window size. Default: 7\n",
        "        mlp_ratio (float): Ratio of mlp hidden dim to embedding dim. Default: 4\n",
        "        qkv_bias (bool): If True, add a learnable bias to query, key, value. Default: True\n",
        "        qk_scale (float): Override default qk scale of head_dim ** -0.5 if set. Default: None\n",
        "        drop_rate (float): Dropout rate. Default: 0\n",
        "        attn_drop_rate (float): Attention dropout rate. Default: 0\n",
        "        drop_path_rate (float): Stochastic depth rate. Default: 0.1\n",
        "        norm_layer (nn.Module): Normalization layer. Default: nn.LayerNorm.\n",
        "        ape (bool): If True, add absolute position embedding to the patch embedding. Default: False\n",
        "        patch_norm (bool): If True, add normalization after patch embedding. Default: True\n",
        "        use_checkpoint (bool): Whether to use checkpointing to save memory. Default: False\n",
        "    \"\"\"\n",
        "\n",
        "    def __init__(self, img_size=224, patch_size=4, in_chans=3, num_classes=1000,\n",
        "                 embed_dim=96, depths=[2, 2, 6, 2], num_heads=[3, 6, 12, 24],\n",
        "                 window_size=7, mlp_ratio=4., qkv_bias=True, qk_scale=None,\n",
        "                 drop_rate=0., attn_drop_rate=0., drop_path_rate=0.1,\n",
        "                 norm_layer=nn.LayerNorm, ape=False, patch_norm=True,\n",
        "                 use_checkpoint=False, **kwargs):\n",
        "        super().__init__()\n",
        "\n",
        "        self.num_classes = num_classes\n",
        "        self.num_layers = len(depths)\n",
        "        self.embed_dim = embed_dim\n",
        "        self.ape = ape\n",
        "        self.patch_norm = patch_norm\n",
        "        self.num_features = int(embed_dim * 2 ** (self.num_layers - 1))\n",
        "        self.mlp_ratio = mlp_ratio\n",
        "\n",
        "        # split image into non-overlapping patches\n",
        "        self.patch_embed = PatchEmbed(\n",
        "            img_size=img_size, patch_size=patch_size, in_chans=in_chans, embed_dim=embed_dim,\n",
        "            norm_layer=norm_layer if self.patch_norm else None)\n",
        "        num_patches = self.patch_embed.num_patches\n",
        "        patches_resolution = self.patch_embed.patches_resolution\n",
        "        self.patches_resolution = patches_resolution\n",
        "\n",
        "        # absolute position embedding\n",
        "        if self.ape:\n",
        "            self.absolute_pos_embed = nn.Parameter(torch.zeros(1, num_patches, embed_dim))\n",
        "            trunc_normal_(self.absolute_pos_embed, std=.02)\n",
        "\n",
        "        self.pos_drop = nn.Dropout(p=drop_rate)\n",
        "\n",
        "        # stochastic depth\n",
        "        dpr = [x.item() for x in torch.linspace(0, drop_path_rate, sum(depths))]  # stochastic depth decay rule\n",
        "\n",
        "        # build layers\n",
        "        self.layers = nn.ModuleList()\n",
        "        for i_layer in range(self.num_layers):\n",
        "            layer = BasicLayer(dim=int(embed_dim * 2 ** i_layer),\n",
        "                               input_resolution=(patches_resolution[0] // (2 ** i_layer),\n",
        "                                                 patches_resolution[1] // (2 ** i_layer)),\n",
        "                               depth=depths[i_layer],\n",
        "                               num_heads=num_heads[i_layer],\n",
        "                               window_size=window_size,\n",
        "                               mlp_ratio=self.mlp_ratio,\n",
        "                               qkv_bias=qkv_bias, qk_scale=qk_scale,\n",
        "                               drop=drop_rate, attn_drop=attn_drop_rate,\n",
        "                               drop_path=dpr[sum(depths[:i_layer]):sum(depths[:i_layer + 1])],\n",
        "                               norm_layer=norm_layer,\n",
        "                               downsample=PatchMerging if (i_layer < self.num_layers - 1) else None,\n",
        "                               use_checkpoint=use_checkpoint)\n",
        "            self.layers.append(layer)\n",
        "\n",
        "        self.norm = norm_layer(self.num_features)\n",
        "        self.avgpool = nn.AdaptiveAvgPool1d(1)\n",
        "        self.head = nn.Linear(self.num_features, num_classes) if num_classes > 0 else nn.Identity()\n",
        "\n",
        "        self.apply(self._init_weights)\n",
        "\n",
        "    def _init_weights(self, m):\n",
        "        if isinstance(m, nn.Linear):\n",
        "            trunc_normal_(m.weight, std=.02)\n",
        "            if isinstance(m, nn.Linear) and m.bias is not None:\n",
        "                nn.init.constant_(m.bias, 0)\n",
        "        elif isinstance(m, nn.LayerNorm):\n",
        "            nn.init.constant_(m.bias, 0)\n",
        "            nn.init.constant_(m.weight, 1.0)\n",
        "\n",
        "    @torch.jit.ignore\n",
        "    def no_weight_decay(self):\n",
        "        return {'absolute_pos_embed'}\n",
        "\n",
        "    @torch.jit.ignore\n",
        "    def no_weight_decay_keywords(self):\n",
        "        return {'relative_position_bias_table'}\n",
        "\n",
        "    def forward_features(self, x):\n",
        "        x = self.patch_embed(x)\n",
        "        if self.ape:\n",
        "            x = x + self.absolute_pos_embed\n",
        "        x = self.pos_drop(x)\n",
        "\n",
        "        for layer in self.layers:\n",
        "            x = layer(x)\n",
        "\n",
        "        x = self.norm(x)  # B L C\n",
        "        x = self.avgpool(x.transpose(1, 2))  # B C 1\n",
        "        x = torch.flatten(x, 1)\n",
        "        return x\n",
        "\n",
        "    def forward(self, x):\n",
        "        x = self.forward_features(x)\n",
        "        x = self.head(x)\n",
        "        return x\n",
        "\n",
        "    def flops(self):\n",
        "        flops = 0\n",
        "        flops += self.patch_embed.flops()\n",
        "        for i, layer in enumerate(self.layers):\n",
        "            flops += layer.flops()\n",
        "        flops += self.num_features * self.patches_resolution[0] * self.patches_resolution[1] // (2 ** self.num_layers)\n",
        "        flops += self.num_features * self.num_classes\n",
        "        return flops\n",
        "\n",
        "def swin_t_patch4_224_diagnosis(image_size=224, pretrained=False, pretrainPath='', classNumber=2, windowSize=7, **kwargs):\n",
        "    model = SwinTransformer(img_size=image_size, num_classes=classNumber, window_size=windowSize)\n",
        "    if pretrained:\n",
        "        checkpoint = torch.load(pretrainPath, map_location='cpu')\n",
        "        state_dict = checkpoint['model']\n",
        "\n",
        "        msg = model.load_state_dict(state_dict, strict=False)\n",
        "        print(msg)\n",
        "\n",
        "        print(f\"=> loaded successfully {pretrainPath}\")\n",
        "\n",
        "        del checkpoint\n",
        "        torch.cuda.empty_cache()\n",
        "    return model"
      ]
    },
    {
      "cell_type": "markdown",
      "metadata": {
        "id": "TdWtlzXY22rw"
      },
      "source": [
        "#Model Init"
      ]
    },
    {
      "cell_type": "code",
      "execution_count": 12,
      "metadata": {
        "colab": {
          "base_uri": "https://localhost:8080/"
        },
        "id": "F_NyNct4Baqp",
        "outputId": "fa9f630f-73ef-4bba-ef4f-b2283d1fda87"
      },
      "outputs": [
        {
          "name": "stdout",
          "output_type": "stream",
          "text": [
            "Requirement already satisfied: yacs in c:\\programdata\\anaconda3\\envs\\swinex\\lib\\site-packages (0.1.8)\n",
            "Requirement already satisfied: PyYAML in c:\\programdata\\anaconda3\\envs\\swinex\\lib\\site-packages (from yacs) (6.0)\n"
          ]
        }
      ],
      "source": [
        "!pip install yacs"
      ]
    },
    {
      "cell_type": "code",
      "execution_count": 209,
      "metadata": {
        "colab": {
          "base_uri": "https://localhost:8080/"
        },
        "id": "AdXIV5p82yWY",
        "outputId": "c69ae3e3-5132-4ee6-ba66-03005af20eba"
      },
      "outputs": [
        {
          "name": "stdout",
          "output_type": "stream",
          "text": [
            "<All keys matched successfully>\n",
            "=> loaded successfully E:\\models\\diagnosis\\G30-G32_Other_degenerative_diseases_of_nervous_system\\swin_tiny_patch4_window7_224\\ImageNetMoBy224\\ckpt_epoch_4.pth\n"
          ]
        }
      ],
      "source": [
        "import yacs\n",
        "\n",
        "#from checkpoint\n",
        "pretrainedPath = pretrainedPath\n",
        "model = swin_t_patch4_224_diagnosis(image_size=imageSizePx, pretrained=True, pretrainPath=pretrainedPath, classNumber=numClasses, windowSize=window_Size)#swin_t_patch4_224(pretrained=True)#timm.create_model('swin_base_patch4_window7_224', pretrained=True)\n",
        "model.eval()\n",
        "\n",
        "# if args.use_cuda:\n",
        "model = model.to(device)#.cuda()"
      ]
    },
    {
      "cell_type": "markdown",
      "metadata": {
        "id": "YFG4mRsi24hl"
      },
      "source": [
        "#Calc Metrics on val"
      ]
    },
    {
      "cell_type": "markdown",
      "metadata": {
        "id": "TtFXwviDHsgF"
      },
      "source": [
        "##Setup Metrics"
      ]
    },
    {
      "cell_type": "code",
      "execution_count": 14,
      "metadata": {
        "colab": {
          "base_uri": "https://localhost:8080/"
        },
        "id": "FQ8SU5DOoLgm",
        "outputId": "fdb5957c-f82c-4957-b21c-64be632740cc"
      },
      "outputs": [
        {
          "name": "stdout",
          "output_type": "stream",
          "text": [
            "Collecting torchmetrics\n",
            "  Downloading torchmetrics-0.8.2-py3-none-any.whl (409 kB)\n",
            "Requirement already satisfied: torch>=1.3.1 in c:\\programdata\\anaconda3\\envs\\swinex\\lib\\site-packages (from torchmetrics) (1.11.0)\n",
            "Collecting pyDeprecate==0.3.*\n",
            "  Downloading pyDeprecate-0.3.2-py3-none-any.whl (10 kB)\n",
            "Requirement already satisfied: numpy>=1.17.2 in c:\\programdata\\anaconda3\\envs\\swinex\\lib\\site-packages (from torchmetrics) (1.20.3)\n",
            "Requirement already satisfied: packaging in c:\\programdata\\anaconda3\\envs\\swinex\\lib\\site-packages (from torchmetrics) (21.0)\n",
            "Requirement already satisfied: typing_extensions in c:\\programdata\\anaconda3\\envs\\swinex\\lib\\site-packages (from torch>=1.3.1->torchmetrics) (3.10.0.2)\n",
            "Requirement already satisfied: pyparsing>=2.0.2 in c:\\programdata\\anaconda3\\envs\\swinex\\lib\\site-packages (from packaging->torchmetrics) (3.0.4)\n",
            "Installing collected packages: pyDeprecate, torchmetrics\n",
            "Successfully installed pyDeprecate-0.3.2 torchmetrics-0.8.2\n"
          ]
        }
      ],
      "source": [
        "!pip install torchmetrics"
      ]
    },
    {
      "cell_type": "code",
      "execution_count": 210,
      "metadata": {
        "colab": {
          "base_uri": "https://localhost:8080/"
        },
        "id": "2KS-7MqPpJTv",
        "outputId": "70a945eb-bbd9-4571-b6ee-086612ef9fb2"
      },
      "outputs": [],
      "source": [
        "# import library\n",
        "import torchmetrics\n",
        "\n",
        "# from torchmetrics.functional import auc\n",
        "from torchmetrics import AUROC\n",
        "from torchmetrics import ROC\n",
        "from torchmetrics import Specificity\n",
        "\n",
        "from torchmetrics.classification import StatScores\n",
        "\n",
        "from torchmetrics import Precision\n",
        "from torchmetrics import Recall\n",
        "from torchmetrics import Accuracy\n",
        "from torchmetrics import F1Score\n",
        "# from torchmetrics.functional import precision_recall\n",
        "from torchmetrics import CohenKappa\n",
        "from torchmetrics import PrecisionRecallCurve\n",
        "from torchmetrics import ConfusionMatrix\n",
        "\n",
        "#-------------------------------------------------------------Params\n",
        "NumClasses = realClassNumber#5#1000#realClassNumber#1000#5\n",
        "\n",
        "\n",
        "\n",
        "#-------------------------------------------------------------# initialize metrics\n",
        "if False:#binaryClassification: #determine threshold then other metrics\n",
        "  roc_Metric = ROC(pos_label=1)\n",
        "  # fpr, tpr, thresholds = roc(pred, target)\n",
        "  pr_curve_Metric = PrecisionRecallCurve(pos_label=1)\n",
        "  # precision, recall, thresholds = pr_curve(pred, target)\n",
        "  #------------------------------------------------------\n",
        "  auroc_Metric = AUROC(pos_label=1)\n",
        "  # auroc(preds, target)\n",
        "  stat_scores_Metric = StatScores(threshold=0.5, reduce='micro')\n",
        "  # stat_scores(preds, target)\n",
        "  precision_Metric = Precision(threshold=0.5, average='micro') #Default value of 0.5 corresponds to input being probabilities.\n",
        "  # # precision(preds, target)\n",
        "  recall_Metric = Recall(threshold=0.5, average='micro')\n",
        "  # # recall(preds, target)\n",
        "  # precision_recall(preds, target, average='macro', num_classes=NumClasses)#threshold=0.5\n",
        "  f1_Metric = F1Score(threshold=0.5, average='micro')#threshold=0.5 \n",
        "  # f1(preds, target)\n",
        "  specificity_Metric = Specificity(threshold=0.5, average='micro')\n",
        "  # specificity = Specificity(average='micro')\n",
        "  # specificity(preds, target)\n",
        "  accuracy_Metric = Accuracy(threshold=0.5, average='micro')#threshold=0.5\n",
        "  # accuracy(preds, target)\n",
        "  cohenkappa_Metric = CohenKappa(num_classes=NumClasses, threshold=0.5)#threshold=0.5\n",
        "  # cohenkappa(preds, target)\n",
        "  confmat = ConfusionMatrix(num_classes=NumClasses, threshold=0.5)\n",
        "  # confmat(preds, target)\n",
        "\n",
        "  BinaryMetricsThresh = {\n",
        "    'roc': roc_Metric,\n",
        "    'pr_curve': pr_curve_Metric,\n",
        "  }\n",
        "  BinaryMetrics = {\n",
        "    'auroc': auroc_Metric,\n",
        "    'stat_scores': stat_scores_Metric,\n",
        "    'precision': precision_Metric,\n",
        "    'recall': recall_Metric,\n",
        "    'f1': f1_Metric,\n",
        "    'specificity': specificity_Metric,\n",
        "    'accuracy': accuracy_Metric,\n",
        "    'cohenkappa': cohenkappa_Metric,\n",
        "    'confmat': confmat,\n",
        "  }\n",
        "\n",
        "  for key, metric in BinaryMetricsThresh.items():\n",
        "    metric.to(device)\n",
        "  for key, metric in BinaryMetrics.items():\n",
        "    metric.to(device)\n",
        "else:\n",
        "  auroc_Metric = AUROC(num_classes=NumClasses)\n",
        "  # stat_scores_Metric = StatScores(num_classes=NumClasses, reduce='macro')#reduce='micro'\n",
        "  precision_Metric = Precision(num_classes=NumClasses, average='macro') #Default value of 0.5 corresponds to input being probabilities.\n",
        "  recall_Metric = Recall(num_classes=NumClasses, average='macro')\n",
        "  f1_Metric = F1Score(num_classes=NumClasses, average='macro')#threshold=0.5 \n",
        "  accuracy_Metric = Accuracy(num_classes=NumClasses, average='macro')#threshold=0.5\n",
        "  cohenkappa_Metric = CohenKappa(num_classes=NumClasses)#threshold=0.5\n",
        "  confmat = ConfusionMatrix(num_classes=NumClasses)\n",
        "  # confmat(preds, target)\n",
        "  MultiClassMetrics = {\n",
        "      \"Area Under ROC Curve\" : auroc_Metric,\n",
        "      \"Precision\" : precision_Metric,\n",
        "      \"Recall\" : recall_Metric,\n",
        "      \"F1 Score\" : f1_Metric,\n",
        "      \"Accuracy\" : accuracy_Metric,\n",
        "      \"Cohen kappa coefficient\" : cohenkappa_Metric,\n",
        "      \"Confusion Matrix\" : confmat,\n",
        "  }\n",
        "  #[auroc_Metric, precision_Metric, recall_Metric, f1_Metric, accuracy_Metric, cohenkappa_Metric, confmat]#stat_scores_Metric, \n",
        "\n",
        "  # for metric in MultiClassMetrics:\n",
        "  for key, metric in MultiClassMetrics.items():\n",
        "    metric.to(device)"
      ]
    },
    {
      "cell_type": "markdown",
      "metadata": {
        "id": "JzJ4BMfC1TPS"
      },
      "source": [
        "#Binary Classification metrics"
      ]
    },
    {
      "cell_type": "code",
      "execution_count": 30,
      "metadata": {
        "colab": {
          "base_uri": "https://localhost:8080/"
        },
        "id": "0jUdCY-PZR2z",
        "outputId": "4f3afe22-e980-4ee8-f961-ece02b4b172a"
      },
      "outputs": [
        {
          "name": "stderr",
          "output_type": "stream",
          "text": [
            "  0%|          | 0/516 [00:00<?, ?it/s]\n"
          ]
        },
        {
          "ename": "ValueError",
          "evalue": "Detected input to `multiclass` but you did not provide `num_classes` argument",
          "output_type": "error",
          "traceback": [
            "\u001b[1;31m---------------------------------------------------------------------------\u001b[0m",
            "\u001b[1;31mValueError\u001b[0m                                Traceback (most recent call last)",
            "\u001b[1;32m~\\AppData\\Local\\Temp/ipykernel_17684/4178579804.py\u001b[0m in \u001b[0;36m<module>\u001b[1;34m\u001b[0m\n\u001b[0;32m     53\u001b[0m   \u001b[1;31m# metric on current batch\u001b[0m\u001b[1;33m\u001b[0m\u001b[1;33m\u001b[0m\u001b[0m\n\u001b[0;32m     54\u001b[0m   \u001b[1;32mfor\u001b[0m \u001b[0mkey\u001b[0m\u001b[1;33m,\u001b[0m \u001b[0mmetric\u001b[0m \u001b[1;32min\u001b[0m \u001b[0mBinaryMetrics\u001b[0m\u001b[1;33m.\u001b[0m\u001b[0mitems\u001b[0m\u001b[1;33m(\u001b[0m\u001b[1;33m)\u001b[0m\u001b[1;33m:\u001b[0m\u001b[1;33m\u001b[0m\u001b[1;33m\u001b[0m\u001b[0m\n\u001b[1;32m---> 55\u001b[1;33m     \u001b[0mmetric\u001b[0m\u001b[1;33m(\u001b[0m\u001b[0mpreds\u001b[0m\u001b[1;33m,\u001b[0m \u001b[0mtarget\u001b[0m\u001b[1;33m)\u001b[0m\u001b[1;33m\u001b[0m\u001b[1;33m\u001b[0m\u001b[0m\n\u001b[0m\u001b[0;32m     56\u001b[0m \u001b[1;33m\u001b[0m\u001b[0m\n\u001b[0;32m     57\u001b[0m \u001b[1;31m# metric on all batches using custom accumulation\u001b[0m\u001b[1;33m\u001b[0m\u001b[1;33m\u001b[0m\u001b[0m\n",
            "\u001b[1;32mc:\\ProgramData\\Anaconda3\\envs\\swinEx\\lib\\site-packages\\torch\\nn\\modules\\module.py\u001b[0m in \u001b[0;36m_call_impl\u001b[1;34m(self, *input, **kwargs)\u001b[0m\n\u001b[0;32m   1108\u001b[0m         if not (self._backward_hooks or self._forward_hooks or self._forward_pre_hooks or _global_backward_hooks\n\u001b[0;32m   1109\u001b[0m                 or _global_forward_hooks or _global_forward_pre_hooks):\n\u001b[1;32m-> 1110\u001b[1;33m             \u001b[1;32mreturn\u001b[0m \u001b[0mforward_call\u001b[0m\u001b[1;33m(\u001b[0m\u001b[1;33m*\u001b[0m\u001b[0minput\u001b[0m\u001b[1;33m,\u001b[0m \u001b[1;33m**\u001b[0m\u001b[0mkwargs\u001b[0m\u001b[1;33m)\u001b[0m\u001b[1;33m\u001b[0m\u001b[1;33m\u001b[0m\u001b[0m\n\u001b[0m\u001b[0;32m   1111\u001b[0m         \u001b[1;31m# Do not call functions when jit is used\u001b[0m\u001b[1;33m\u001b[0m\u001b[1;33m\u001b[0m\u001b[0m\n\u001b[0;32m   1112\u001b[0m         \u001b[0mfull_backward_hooks\u001b[0m\u001b[1;33m,\u001b[0m \u001b[0mnon_full_backward_hooks\u001b[0m \u001b[1;33m=\u001b[0m \u001b[1;33m[\u001b[0m\u001b[1;33m]\u001b[0m\u001b[1;33m,\u001b[0m \u001b[1;33m[\u001b[0m\u001b[1;33m]\u001b[0m\u001b[1;33m\u001b[0m\u001b[1;33m\u001b[0m\u001b[0m\n",
            "\u001b[1;32mc:\\ProgramData\\Anaconda3\\envs\\swinEx\\lib\\site-packages\\torchmetrics\\metric.py\u001b[0m in \u001b[0;36mforward\u001b[1;34m(self, *args, **kwargs)\u001b[0m\n\u001b[0;32m    262\u001b[0m         \u001b[0mself\u001b[0m\u001b[1;33m.\u001b[0m\u001b[0mreset\u001b[0m\u001b[1;33m(\u001b[0m\u001b[1;33m)\u001b[0m\u001b[1;33m\u001b[0m\u001b[1;33m\u001b[0m\u001b[0m\n\u001b[0;32m    263\u001b[0m         \u001b[0mself\u001b[0m\u001b[1;33m.\u001b[0m\u001b[0mupdate\u001b[0m\u001b[1;33m(\u001b[0m\u001b[1;33m*\u001b[0m\u001b[0margs\u001b[0m\u001b[1;33m,\u001b[0m \u001b[1;33m**\u001b[0m\u001b[0mkwargs\u001b[0m\u001b[1;33m)\u001b[0m\u001b[1;33m\u001b[0m\u001b[1;33m\u001b[0m\u001b[0m\n\u001b[1;32m--> 264\u001b[1;33m         \u001b[0mself\u001b[0m\u001b[1;33m.\u001b[0m\u001b[0m_forward_cache\u001b[0m \u001b[1;33m=\u001b[0m \u001b[0mself\u001b[0m\u001b[1;33m.\u001b[0m\u001b[0mcompute\u001b[0m\u001b[1;33m(\u001b[0m\u001b[1;33m)\u001b[0m\u001b[1;33m\u001b[0m\u001b[1;33m\u001b[0m\u001b[0m\n\u001b[0m\u001b[0;32m    265\u001b[0m \u001b[1;33m\u001b[0m\u001b[0m\n\u001b[0;32m    266\u001b[0m         \u001b[1;31m# restore context\u001b[0m\u001b[1;33m\u001b[0m\u001b[1;33m\u001b[0m\u001b[0m\n",
            "\u001b[1;32mc:\\ProgramData\\Anaconda3\\envs\\swinEx\\lib\\site-packages\\torchmetrics\\metric.py\u001b[0m in \u001b[0;36mwrapped_func\u001b[1;34m(*args, **kwargs)\u001b[0m\n\u001b[0;32m    438\u001b[0m                 \u001b[0mshould_unsync\u001b[0m\u001b[1;33m=\u001b[0m\u001b[0mself\u001b[0m\u001b[1;33m.\u001b[0m\u001b[0m_should_unsync\u001b[0m\u001b[1;33m,\u001b[0m\u001b[1;33m\u001b[0m\u001b[1;33m\u001b[0m\u001b[0m\n\u001b[0;32m    439\u001b[0m             ):\n\u001b[1;32m--> 440\u001b[1;33m                 \u001b[0mvalue\u001b[0m \u001b[1;33m=\u001b[0m \u001b[0mcompute\u001b[0m\u001b[1;33m(\u001b[0m\u001b[1;33m*\u001b[0m\u001b[0margs\u001b[0m\u001b[1;33m,\u001b[0m \u001b[1;33m**\u001b[0m\u001b[0mkwargs\u001b[0m\u001b[1;33m)\u001b[0m\u001b[1;33m\u001b[0m\u001b[1;33m\u001b[0m\u001b[0m\n\u001b[0m\u001b[0;32m    441\u001b[0m                 \u001b[0mself\u001b[0m\u001b[1;33m.\u001b[0m\u001b[0m_computed\u001b[0m \u001b[1;33m=\u001b[0m \u001b[0m_squeeze_if_scalar\u001b[0m\u001b[1;33m(\u001b[0m\u001b[0mvalue\u001b[0m\u001b[1;33m)\u001b[0m\u001b[1;33m\u001b[0m\u001b[1;33m\u001b[0m\u001b[0m\n\u001b[0;32m    442\u001b[0m \u001b[1;33m\u001b[0m\u001b[0m\n",
            "\u001b[1;32mc:\\ProgramData\\Anaconda3\\envs\\swinEx\\lib\\site-packages\\torchmetrics\\classification\\auroc.py\u001b[0m in \u001b[0;36mcompute\u001b[1;34m(self)\u001b[0m\n\u001b[0;32m    173\u001b[0m         \u001b[0mpreds\u001b[0m \u001b[1;33m=\u001b[0m \u001b[0mdim_zero_cat\u001b[0m\u001b[1;33m(\u001b[0m\u001b[0mself\u001b[0m\u001b[1;33m.\u001b[0m\u001b[0mpreds\u001b[0m\u001b[1;33m)\u001b[0m\u001b[1;33m\u001b[0m\u001b[1;33m\u001b[0m\u001b[0m\n\u001b[0;32m    174\u001b[0m         \u001b[0mtarget\u001b[0m \u001b[1;33m=\u001b[0m \u001b[0mdim_zero_cat\u001b[0m\u001b[1;33m(\u001b[0m\u001b[0mself\u001b[0m\u001b[1;33m.\u001b[0m\u001b[0mtarget\u001b[0m\u001b[1;33m)\u001b[0m\u001b[1;33m\u001b[0m\u001b[1;33m\u001b[0m\u001b[0m\n\u001b[1;32m--> 175\u001b[1;33m         return _auroc_compute(\n\u001b[0m\u001b[0;32m    176\u001b[0m             \u001b[0mpreds\u001b[0m\u001b[1;33m,\u001b[0m\u001b[1;33m\u001b[0m\u001b[1;33m\u001b[0m\u001b[0m\n\u001b[0;32m    177\u001b[0m             \u001b[0mtarget\u001b[0m\u001b[1;33m,\u001b[0m\u001b[1;33m\u001b[0m\u001b[1;33m\u001b[0m\u001b[0m\n",
            "\u001b[1;32mc:\\ProgramData\\Anaconda3\\envs\\swinEx\\lib\\site-packages\\torchmetrics\\functional\\classification\\auroc.py\u001b[0m in \u001b[0;36m_auroc_compute\u001b[1;34m(preds, target, mode, num_classes, pos_label, average, max_fpr, sample_weights)\u001b[0m\n\u001b[0;32m    133\u001b[0m         \u001b[1;32mif\u001b[0m \u001b[0mmode\u001b[0m \u001b[1;33m!=\u001b[0m \u001b[0mDataType\u001b[0m\u001b[1;33m.\u001b[0m\u001b[0mBINARY\u001b[0m\u001b[1;33m:\u001b[0m\u001b[1;33m\u001b[0m\u001b[1;33m\u001b[0m\u001b[0m\n\u001b[0;32m    134\u001b[0m             \u001b[1;32mif\u001b[0m \u001b[0mnum_classes\u001b[0m \u001b[1;32mis\u001b[0m \u001b[1;32mNone\u001b[0m\u001b[1;33m:\u001b[0m\u001b[1;33m\u001b[0m\u001b[1;33m\u001b[0m\u001b[0m\n\u001b[1;32m--> 135\u001b[1;33m                 \u001b[1;32mraise\u001b[0m \u001b[0mValueError\u001b[0m\u001b[1;33m(\u001b[0m\u001b[1;34m\"Detected input to `multiclass` but you did not provide `num_classes` argument\"\u001b[0m\u001b[1;33m)\u001b[0m\u001b[1;33m\u001b[0m\u001b[1;33m\u001b[0m\u001b[0m\n\u001b[0m\u001b[0;32m    136\u001b[0m             \u001b[1;32mif\u001b[0m \u001b[0maverage\u001b[0m \u001b[1;33m==\u001b[0m \u001b[0mAverageMethod\u001b[0m\u001b[1;33m.\u001b[0m\u001b[0mWEIGHTED\u001b[0m \u001b[1;32mand\u001b[0m \u001b[0mlen\u001b[0m\u001b[1;33m(\u001b[0m\u001b[0mtorch\u001b[0m\u001b[1;33m.\u001b[0m\u001b[0munique\u001b[0m\u001b[1;33m(\u001b[0m\u001b[0mtarget\u001b[0m\u001b[1;33m)\u001b[0m\u001b[1;33m)\u001b[0m \u001b[1;33m<\u001b[0m \u001b[0mnum_classes\u001b[0m\u001b[1;33m:\u001b[0m\u001b[1;33m\u001b[0m\u001b[1;33m\u001b[0m\u001b[0m\n\u001b[0;32m    137\u001b[0m                 \u001b[1;31m# If one or more classes has 0 observations, we should exclude them, as its weight will be 0\u001b[0m\u001b[1;33m\u001b[0m\u001b[1;33m\u001b[0m\u001b[0m\n",
            "\u001b[1;31mValueError\u001b[0m: Detected input to `multiclass` but you did not provide `num_classes` argument"
          ]
        }
      ],
      "source": [
        "# #Find best thresh - for binary only....\n",
        "# import time\n",
        "# import datetime\n",
        "# from tqdm import tqdm\n",
        "\n",
        "# start_time = time.time()\n",
        "# for idx, (samples_1, targets) in enumerate(tqdm(data_loader)):\n",
        "#   input_tensor_cuda=samples_1.cuda()\n",
        "#   output = model(input_tensor_cuda)\n",
        "\n",
        "#   preds = output.detach()\n",
        "#   target = targets.cuda()\n",
        "\n",
        "#   preds = preds[: , :realClassNumber]#remove extra classes ------------------------- :(\n",
        "\n",
        "#   # fpr, tpr, thresholds = roc_Metric(preds, target)\n",
        "#   # precision, recall, thresholds = pr_curve_Metric(preds, target)\n",
        "\n",
        "# # metric on all batches\n",
        "# roc = roc_Metric.compute()\n",
        "# pr_curve = pr_curve_Metric.compute()\n",
        "# print(f\"\\nroc on all data: {roc}\\n pr curve on all data: {pr_curve}\")\n",
        "\n",
        "# # Reseting internal state such that metric ready for new data\n",
        "# roc_Metric.reset()\n",
        "# pr_curve_Metric.reset()\n",
        "\n",
        "# total_time = time.time() - start_time\n",
        "# total_time_str = str(datetime.timedelta(seconds=int(total_time)))\n",
        "# print('\\nTesting time {}'.format(total_time_str))\n",
        "\n",
        "\n",
        "\n",
        "#-------------------------------------------------------------Run batches\n",
        "import time\n",
        "import datetime\n",
        "from tqdm import tqdm\n",
        "\n",
        "import itertools#for testing limit size\n",
        "# slicedDataloader = itertools.islice(data_loader, 1000)\n",
        "\n",
        "# batch = next(iter(dataloader_train))\n",
        "\n",
        "start_time = time.time()\n",
        "for idx, (samples_1, targets) in enumerate(tqdm(data_loader)):\n",
        "  input_tensor_cuda=samples_1.to(device)#.cuda()\n",
        "  output = model(input_tensor_cuda)\n",
        "\n",
        "  preds = output.detach()\n",
        "  target = targets.to(device)\n",
        "  preds = preds[: , :realClassNumber]#remove extra classes ------------------------- (also adjust classes given to metrics to only 5)\n",
        "\n",
        "  # metric on current batch\n",
        "  for key, metric in BinaryMetrics.items():\n",
        "    metric(preds, target)\n",
        "\n",
        "# metric on all batches using custom accumulation\n",
        "metricsValues = {key:metric.compute() for key, metric in BinaryMetrics.items()}\n",
        "\n",
        "print(f\"\\nMetrics on all data: \")\n",
        "# for metricsResult in metricsList:\n",
        "for key, metric in metricsValues.items():#Print results\n",
        "  print(f\"{key}: {metric}\")\n",
        "\n",
        "# Reseting internal state such that metric ready for new data\n",
        "for key, metric in BinaryMetrics.items():\n",
        "  metric.reset()\n",
        "\n",
        "total_time = time.time() - start_time\n",
        "total_time_str = str(datetime.timedelta(seconds=int(total_time)))\n",
        "print('Testing time {}'.format(total_time_str))"
      ]
    },
    {
      "cell_type": "code",
      "execution_count": null,
      "metadata": {
        "colab": {
          "base_uri": "https://localhost:8080/"
        },
        "id": "EfhX9ZT2h--c",
        "outputId": "b1b16657-6c45-4b42-fef5-93868aa78fd6"
      },
      "outputs": [
        {
          "name": "stdout",
          "output_type": "stream",
          "text": [
            "[array([ 0.000,  0.000,  0.000, ...,  1.000,  1.000,  1.000], dtype=float32), array([ 0.000,  0.000,  0.000, ...,  1.000,  1.000,  1.000], dtype=float32), array([ 0.000,  0.000,  0.000, ...,  1.000,  1.000,  1.000], dtype=float32), array([ 0.000,  0.000,  0.000, ...,  1.000,  1.000,  1.000], dtype=float32), array([ 0.000,  0.000,  0.000, ...,  1.000,  1.000,  1.000], dtype=float32)]\n",
            "[array([ 0.000,  0.000,  0.000, ...,  1.000,  1.000,  1.000], dtype=float32), array([ 0.000,  0.001,  0.002, ...,  1.000,  1.000,  1.000], dtype=float32), array([ 0.000,  0.000,  0.001, ...,  1.000,  1.000,  1.000], dtype=float32), array([ 0.000,  0.002,  0.004, ...,  1.000,  1.000,  1.000], dtype=float32), array([ 0.000,  0.002,  0.005, ...,  1.000,  1.000,  1.000], dtype=float32)]\n",
            "[array([ 8.336,  7.336,  7.332, ...,  2.571,  2.569,  2.538], dtype=float32), array([ 7.834,  6.834,  6.808, ...,  0.786,  0.720,  0.704], dtype=float32), array([ 8.453,  7.453,  7.159, ...,  1.489,  1.331,  1.242], dtype=float32), array([ 9.021,  8.021,  7.939, ..., -0.639, -0.652, -0.994], dtype=float32), array([ 8.482,  7.482,  7.419, ..., -1.217, -1.232, -1.319], dtype=float32)]\n",
            "\n",
            "\n",
            "[array([ 0.736,  0.736,  0.736, ...,  1.000,  1.000,  1.000], dtype=float32), array([ 0.075,  0.074,  0.074, ...,  1.000,  1.000,  1.000], dtype=float32), array([ 0.158,  0.158,  0.158, ...,  1.000,  1.000,  1.000], dtype=float32), array([ 0.031,  0.031,  0.031, ...,  1.000,  1.000,  1.000], dtype=float32), array([ 0.032,  0.032,  0.032, ...,  1.000,  1.000,  1.000], dtype=float32)]\n",
            "[array([ 1.000,  1.000,  1.000, ...,  0.000,  0.000,  0.000], dtype=float32), array([ 1.000,  0.999,  0.999, ...,  0.002,  0.001,  0.000], dtype=float32), array([ 1.000,  1.000,  1.000, ...,  0.001,  0.000,  0.000], dtype=float32), array([ 1.000,  0.998,  0.998, ...,  0.004,  0.002,  0.000], dtype=float32), array([ 1.000,  0.998,  0.998, ...,  0.005,  0.002,  0.000], dtype=float32)]\n",
            "[array([ 3.103,  3.103,  3.103, ...,  7.321,  7.332,  7.336], dtype=float32), array([ 1.748,  1.749,  1.750, ...,  6.778,  6.808,  6.834], dtype=float32), array([ 2.359,  2.359,  2.359, ...,  7.128,  7.159,  7.453], dtype=float32), array([ 0.012,  0.012,  0.012, ...,  7.901,  7.939,  8.021], dtype=float32), array([-0.085, -0.085, -0.085, ...,  7.408,  7.419,  7.482], dtype=float32)]\n"
          ]
        }
      ],
      "source": [
        "np.set_printoptions(formatter={'float': '{: 0.3f}'.format})\n",
        "# print(roc)\n",
        "fpr, tpr, thresholdsroc = roc\n",
        "# print(fpr, tpr, thresholdsroc,sep='\\n')\n",
        "# fpr = fpr.cpu()\n",
        "fpr = [t.cpu().numpy() for t in fpr]\n",
        "tpr = [t.cpu().numpy() for t in tpr]#tpr.cpu()\n",
        "thresholdsroc = [t.cpu().numpy() for t in thresholdsroc]#thresholdsroc.cpu()\n",
        "print(fpr, tpr, thresholdsroc,sep='\\n')\n",
        "\n",
        "print(\"\\n\")\n",
        "\n",
        "# print(pr_curve)\n",
        "precision, recall, thresholdsPRC = pr_curve\n",
        "# print(precision, recall, thresholdsPRC, sep='\\n')\n",
        "precision = [t.cpu().numpy() for t in precision]#precision.cpu()\n",
        "recall = [t.cpu().numpy() for t in recall]#recall.cpu()\n",
        "thresholdsPRC = [t.cpu().numpy() for t in thresholdsPRC]#thresholdsPRC.cpu()\n",
        "print(precision, recall, thresholdsPRC, sep='\\n')"
      ]
    },
    {
      "cell_type": "code",
      "execution_count": null,
      "metadata": {
        "colab": {
          "base_uri": "https://localhost:8080/"
        },
        "id": "xbJwLWFqnSQo",
        "outputId": "05553941-5cbb-48a5-b85c-529decc73ea8"
      },
      "outputs": [
        {
          "name": "stdout",
          "output_type": "stream",
          "text": [
            "Requirement already satisfied: ggplot in /usr/local/lib/python3.7/dist-packages (0.11.5)\n",
            "Requirement already satisfied: brewer2mpl in /usr/local/lib/python3.7/dist-packages (from ggplot) (1.4.1)\n",
            "Requirement already satisfied: six in /usr/local/lib/python3.7/dist-packages (from ggplot) (1.15.0)\n",
            "Requirement already satisfied: scipy in /usr/local/lib/python3.7/dist-packages (from ggplot) (1.4.1)\n",
            "Requirement already satisfied: numpy in /usr/local/lib/python3.7/dist-packages (from ggplot) (1.21.6)\n",
            "Requirement already satisfied: statsmodels in /usr/local/lib/python3.7/dist-packages (from ggplot) (0.10.2)\n",
            "Requirement already satisfied: cycler in /usr/local/lib/python3.7/dist-packages (from ggplot) (0.11.0)\n",
            "Requirement already satisfied: matplotlib in /usr/local/lib/python3.7/dist-packages (from ggplot) (3.2.2)\n",
            "Requirement already satisfied: patsy>=0.4 in /usr/local/lib/python3.7/dist-packages (from ggplot) (0.5.2)\n",
            "Requirement already satisfied: pandas in /usr/local/lib/python3.7/dist-packages (from ggplot) (1.3.5)\n",
            "Requirement already satisfied: python-dateutil>=2.1 in /usr/local/lib/python3.7/dist-packages (from matplotlib->ggplot) (2.8.2)\n",
            "Requirement already satisfied: kiwisolver>=1.0.1 in /usr/local/lib/python3.7/dist-packages (from matplotlib->ggplot) (1.4.2)\n",
            "Requirement already satisfied: pyparsing!=2.0.4,!=2.1.2,!=2.1.6,>=2.0.1 in /usr/local/lib/python3.7/dist-packages (from matplotlib->ggplot) (3.0.8)\n",
            "Requirement already satisfied: typing-extensions in /usr/local/lib/python3.7/dist-packages (from kiwisolver>=1.0.1->matplotlib->ggplot) (4.2.0)\n",
            "Requirement already satisfied: pytz>=2017.3 in /usr/local/lib/python3.7/dist-packages (from pandas->ggplot) (2022.1)\n",
            "Collecting tslib\n",
            "  Downloading tslib-1.8-py2.py3-none-any.whl (11 kB)\n",
            "Requirement already satisfied: pytz in /usr/local/lib/python3.7/dist-packages (from tslib) (2022.1)\n",
            "Requirement already satisfied: six in /usr/local/lib/python3.7/dist-packages (from tslib) (1.15.0)\n",
            "Installing collected packages: tslib\n",
            "Successfully installed tslib-1.8\n"
          ]
        }
      ],
      "source": [
        "# !pip install ggplot\n",
        "# !pip install tslib"
      ]
    },
    {
      "cell_type": "code",
      "execution_count": null,
      "metadata": {
        "id": "npUb1rl-sJwx"
      },
      "outputs": [],
      "source": [
        "fpr=fpr[0]\n",
        "tpr=tpr[0]\n",
        "# thresholdsroc=thresholdsroc[0]"
      ]
    },
    {
      "cell_type": "code",
      "execution_count": null,
      "metadata": {
        "colab": {
          "base_uri": "https://localhost:8080/",
          "height": 313
        },
        "id": "U5l-hzs6h5x4",
        "outputId": "5e49ce03-380f-4e3e-98bd-56b297a38691"
      },
      "outputs": [
        {
          "name": "stdout",
          "output_type": "stream",
          "text": [
            "(18388,) (18388,)\n"
          ]
        },
        {
          "data": {
            "image/png": "[encoded data removed]",
            "text/plain": [
              "<Figure size 432x288 with 1 Axes>"
            ]
          },
          "metadata": {
            "needs_background": "light"
          },
          "output_type": "display_data"
        }
      ],
      "source": [
        "import sklearn.metrics as metrics\n",
        "import pandas\n",
        "# calculate the fpr and tpr for all thresholds of the classification\n",
        "# probs = model.predict_proba(X_test)\n",
        "# preds = probs[:,1]\n",
        "# fpr, tpr, threshold = metrics.roc_curve(y_test, preds)\n",
        "print(np.shape(fpr), np.shape(tpr))\n",
        "roc_auc = metrics.auc(fpr, tpr)\n",
        "\n",
        "# method I: plt\n",
        "import matplotlib.pyplot as plt\n",
        "plt.title('Receiver Operating Characteristic')\n",
        "plt.plot(fpr, tpr, 'b', label = 'AUC = %0.2f' % roc_auc)\n",
        "plt.legend(loc = 'lower right')\n",
        "plt.plot([0, 1], [0, 1],'r--')\n",
        "plt.xlim([0, 1])\n",
        "plt.ylim([0, 1])\n",
        "plt.ylabel('True Positive Rate')\n",
        "plt.xlabel('False Positive Rate')\n",
        "plt.show()\n",
        "\n",
        "# # method II: ggplot\n",
        "# from ggplot import *\n",
        "# df = pd.DataFrame(dict(fpr = fpr, tpr = tpr))\n",
        "# ggplot(df, aes(x = 'fpr', y = 'tpr')) + geom_line() + geom_abline(linetype = 'dashed')"
      ]
    },
    {
      "cell_type": "code",
      "execution_count": null,
      "metadata": {
        "colab": {
          "base_uri": "https://localhost:8080/",
          "height": 303
        },
        "id": "Sl9wlQ-ksXAN",
        "outputId": "2cf3ba4d-3924-4cf8-b497-3623e3c58f81"
      },
      "outputs": [
        {
          "data": {
            "text/plain": [
              "[]"
            ]
          },
          "execution_count": 111,
          "metadata": {},
          "output_type": "execute_result"
        },
        {
          "data": {
            "image/png": "[encoded data removed]",
            "text/plain": [
              "<Figure size 432x288 with 1 Axes>"
            ]
          },
          "metadata": {
            "needs_background": "light"
          },
          "output_type": "display_data"
        }
      ],
      "source": [
        "import pandas as pd\n",
        "####################################\n",
        "# The optimal cut off would be where tpr is high and fpr is low\n",
        "# tpr - (1-fpr) is zero or near to zero is the optimal cut off point\n",
        "####################################\n",
        "i = np.arange(len(tpr)) # index for df\n",
        "roc = pd.DataFrame({'fpr' : pd.Series(fpr, index=i),'tpr' : pd.Series(tpr, index = i), '1-fpr' : pd.Series(1-fpr, index = i), 'tf' : pd.Series(tpr - (1-fpr), index = i), 'thresholds' : pd.Series(thresholdsroc, index = i)})\n",
        "roc.iloc[(roc.tf-0).abs().argsort()[:1]]\n",
        "\n",
        "# Plot tpr vs 1-fpr\n",
        "fig, ax = plt.subplots()\n",
        "plt.plot(roc['tpr'])\n",
        "plt.plot(roc['1-fpr'], color = 'red')\n",
        "plt.xlabel('1-False Positive Rate')\n",
        "plt.ylabel('True Positive Rate')\n",
        "plt.title('Receiver operating characteristic')\n",
        "ax.set_xticklabels([])"
      ]
    },
    {
      "cell_type": "code",
      "execution_count": null,
      "metadata": {
        "colab": {
          "base_uri": "https://localhost:8080/",
          "height": 380
        },
        "id": "l3-sIaM-tUnJ",
        "outputId": "7c1731e1-3f0b-4dec-ef69-92126f916a3c"
      },
      "outputs": [
        {
          "ename": "ValueError",
          "evalue": "ignored",
          "output_type": "error",
          "traceback": [
            "\u001b[0;31m---------------------------------------------------------------------------\u001b[0m",
            "\u001b[0;31mValueError\u001b[0m                                Traceback (most recent call last)",
            "\u001b[0;32m<ipython-input-120-919a19418daa>\u001b[0m in \u001b[0;36m<module>\u001b[0;34m()\u001b[0m\n\u001b[1;32m      1\u001b[0m \u001b[0mi\u001b[0m \u001b[0;34m=\u001b[0m \u001b[0mnp\u001b[0m\u001b[0;34m.\u001b[0m\u001b[0marange\u001b[0m\u001b[0;34m(\u001b[0m\u001b[0mlen\u001b[0m\u001b[0;34m(\u001b[0m\u001b[0mtpr\u001b[0m\u001b[0;34m)\u001b[0m\u001b[0;34m)\u001b[0m\u001b[0;34m\u001b[0m\u001b[0;34m\u001b[0m\u001b[0m\n\u001b[0;32m----> 2\u001b[0;31m \u001b[0mrocs\u001b[0m \u001b[0;34m=\u001b[0m \u001b[0mpd\u001b[0m\u001b[0;34m.\u001b[0m\u001b[0mDataFrame\u001b[0m\u001b[0;34m(\u001b[0m\u001b[0;34m{\u001b[0m\u001b[0;34m'tf'\u001b[0m \u001b[0;34m:\u001b[0m \u001b[0mpd\u001b[0m\u001b[0;34m.\u001b[0m\u001b[0mSeries\u001b[0m\u001b[0;34m(\u001b[0m\u001b[0mtpr\u001b[0m\u001b[0;34m-\u001b[0m\u001b[0;34m(\u001b[0m\u001b[0;36m1\u001b[0m\u001b[0;34m-\u001b[0m\u001b[0mfpr\u001b[0m\u001b[0;34m)\u001b[0m\u001b[0;34m,\u001b[0m \u001b[0mindex\u001b[0m\u001b[0;34m=\u001b[0m\u001b[0mi\u001b[0m\u001b[0;34m)\u001b[0m\u001b[0;34m,\u001b[0m \u001b[0;34m'threshold'\u001b[0m \u001b[0;34m:\u001b[0m \u001b[0mpd\u001b[0m\u001b[0;34m.\u001b[0m\u001b[0mSeries\u001b[0m\u001b[0;34m(\u001b[0m\u001b[0mthresholdsroc\u001b[0m\u001b[0;34m,\u001b[0m \u001b[0mindex\u001b[0m\u001b[0;34m=\u001b[0m\u001b[0mi\u001b[0m\u001b[0;34m)\u001b[0m\u001b[0;34m}\u001b[0m\u001b[0;34m)\u001b[0m\u001b[0;34m\u001b[0m\u001b[0;34m\u001b[0m\u001b[0m\n\u001b[0m\u001b[1;32m      3\u001b[0m \u001b[0mroc_t\u001b[0m \u001b[0;34m=\u001b[0m \u001b[0mrocs\u001b[0m\u001b[0;34m.\u001b[0m\u001b[0miloc\u001b[0m\u001b[0;34m[\u001b[0m\u001b[0;34m(\u001b[0m\u001b[0mrocs\u001b[0m\u001b[0;34m.\u001b[0m\u001b[0mtf\u001b[0m\u001b[0;34m-\u001b[0m\u001b[0;36m0\u001b[0m\u001b[0;34m)\u001b[0m\u001b[0;34m.\u001b[0m\u001b[0mabs\u001b[0m\u001b[0;34m(\u001b[0m\u001b[0;34m)\u001b[0m\u001b[0;34m.\u001b[0m\u001b[0margsort\u001b[0m\u001b[0;34m(\u001b[0m\u001b[0;34m)\u001b[0m\u001b[0;34m[\u001b[0m\u001b[0;34m:\u001b[0m\u001b[0;36m1\u001b[0m\u001b[0;34m]\u001b[0m\u001b[0;34m]\u001b[0m\u001b[0;34m\u001b[0m\u001b[0;34m\u001b[0m\u001b[0m\n\u001b[1;32m      4\u001b[0m \u001b[0mprint\u001b[0m\u001b[0;34m(\u001b[0m\u001b[0mroc_t\u001b[0m\u001b[0;34m)\u001b[0m\u001b[0;34m\u001b[0m\u001b[0;34m\u001b[0m\u001b[0m\n",
            "\u001b[0;32m/usr/local/lib/python3.7/dist-packages/pandas/core/series.py\u001b[0m in \u001b[0;36m__init__\u001b[0;34m(self, data, index, dtype, name, copy, fastpath)\u001b[0m\n\u001b[1;32m    428\u001b[0m                 \u001b[0mindex\u001b[0m \u001b[0;34m=\u001b[0m \u001b[0mibase\u001b[0m\u001b[0;34m.\u001b[0m\u001b[0mdefault_index\u001b[0m\u001b[0;34m(\u001b[0m\u001b[0mlen\u001b[0m\u001b[0;34m(\u001b[0m\u001b[0mdata\u001b[0m\u001b[0;34m)\u001b[0m\u001b[0;34m)\u001b[0m\u001b[0;34m\u001b[0m\u001b[0;34m\u001b[0m\u001b[0m\n\u001b[1;32m    429\u001b[0m             \u001b[0;32melif\u001b[0m \u001b[0mis_list_like\u001b[0m\u001b[0;34m(\u001b[0m\u001b[0mdata\u001b[0m\u001b[0;34m)\u001b[0m\u001b[0;34m:\u001b[0m\u001b[0;34m\u001b[0m\u001b[0;34m\u001b[0m\u001b[0m\n\u001b[0;32m--> 430\u001b[0;31m                 \u001b[0mcom\u001b[0m\u001b[0;34m.\u001b[0m\u001b[0mrequire_length_match\u001b[0m\u001b[0;34m(\u001b[0m\u001b[0mdata\u001b[0m\u001b[0;34m,\u001b[0m \u001b[0mindex\u001b[0m\u001b[0;34m)\u001b[0m\u001b[0;34m\u001b[0m\u001b[0;34m\u001b[0m\u001b[0m\n\u001b[0m\u001b[1;32m    431\u001b[0m \u001b[0;34m\u001b[0m\u001b[0m\n\u001b[1;32m    432\u001b[0m             \u001b[0;31m# create/copy the manager\u001b[0m\u001b[0;34m\u001b[0m\u001b[0;34m\u001b[0m\u001b[0;34m\u001b[0m\u001b[0m\n",
            "\u001b[0;32m/usr/local/lib/python3.7/dist-packages/pandas/core/common.py\u001b[0m in \u001b[0;36mrequire_length_match\u001b[0;34m(data, index)\u001b[0m\n\u001b[1;32m    530\u001b[0m     \u001b[0;32mif\u001b[0m \u001b[0mlen\u001b[0m\u001b[0;34m(\u001b[0m\u001b[0mdata\u001b[0m\u001b[0;34m)\u001b[0m \u001b[0;34m!=\u001b[0m \u001b[0mlen\u001b[0m\u001b[0;34m(\u001b[0m\u001b[0mindex\u001b[0m\u001b[0;34m)\u001b[0m\u001b[0;34m:\u001b[0m\u001b[0;34m\u001b[0m\u001b[0;34m\u001b[0m\u001b[0m\n\u001b[1;32m    531\u001b[0m         raise ValueError(\n\u001b[0;32m--> 532\u001b[0;31m             \u001b[0;34m\"Length of values \"\u001b[0m\u001b[0;34m\u001b[0m\u001b[0;34m\u001b[0m\u001b[0m\n\u001b[0m\u001b[1;32m    533\u001b[0m             \u001b[0;34mf\"({len(data)}) \"\u001b[0m\u001b[0;34m\u001b[0m\u001b[0;34m\u001b[0m\u001b[0m\n\u001b[1;32m    534\u001b[0m             \u001b[0;34m\"does not match length of index \"\u001b[0m\u001b[0;34m\u001b[0m\u001b[0;34m\u001b[0m\u001b[0m\n",
            "\u001b[0;31mValueError\u001b[0m: Length of values (5) does not match length of index (18388)"
          ]
        }
      ],
      "source": [
        "i = np.arange(len(tpr)) \n",
        "rocs = pd.DataFrame({'tf' : pd.Series(tpr-(1-fpr), index=i), 'threshold' : pd.Series(thresholdsroc, index=i)})\n",
        "roc_t = rocs.iloc[(rocs.tf-0).abs().argsort()[:1]]\n",
        "print(roc_t)"
      ]
    },
    {
      "cell_type": "code",
      "execution_count": null,
      "metadata": {
        "colab": {
          "base_uri": "https://localhost:8080/",
          "height": 800
        },
        "id": "dDvxu8unpXy-",
        "outputId": "161c91a0-71c2-4d29-e085-e61bdc89b7ce"
      },
      "outputs": [
        {
          "name": "stderr",
          "output_type": "stream",
          "text": [
            "/usr/local/lib/python3.7/dist-packages/numpy/core/shape_base.py:65: VisibleDeprecationWarning: Creating an ndarray from ragged nested sequences (which is a list-or-tuple of lists-or-tuples-or ndarrays with different lengths or shapes) is deprecated. If you meant to do this, you must specify 'dtype=object' when creating the ndarray.\n",
            "  ary = asanyarray(ary)\n"
          ]
        },
        {
          "ename": "ValueError",
          "evalue": "ignored",
          "output_type": "error",
          "traceback": [
            "\u001b[0;31m---------------------------------------------------------------------------\u001b[0m",
            "\u001b[0;31mTypeError\u001b[0m                                 Traceback (most recent call last)",
            "\u001b[0;31mTypeError\u001b[0m: only size-1 arrays can be converted to Python scalars",
            "\nThe above exception was the direct cause of the following exception:\n",
            "\u001b[0;31mValueError\u001b[0m                                Traceback (most recent call last)",
            "\u001b[0;32m<ipython-input-91-e1881cc6d992>\u001b[0m in \u001b[0;36m<module>\u001b[0;34m()\u001b[0m\n\u001b[1;32m     11\u001b[0m \u001b[0mplt\u001b[0m\u001b[0;34m.\u001b[0m\u001b[0mfigure\u001b[0m\u001b[0;34m(\u001b[0m\u001b[0;36m1\u001b[0m\u001b[0;34m)\u001b[0m\u001b[0;34m\u001b[0m\u001b[0;34m\u001b[0m\u001b[0m\n\u001b[1;32m     12\u001b[0m \u001b[0mlw\u001b[0m \u001b[0;34m=\u001b[0m \u001b[0;36m2\u001b[0m\u001b[0;34m\u001b[0m\u001b[0;34m\u001b[0m\u001b[0m\n\u001b[0;32m---> 13\u001b[0;31m \u001b[0mplt\u001b[0m\u001b[0;34m.\u001b[0m\u001b[0mplot\u001b[0m\u001b[0;34m(\u001b[0m\u001b[0mfpr\u001b[0m\u001b[0;34m,\u001b[0m \u001b[0mtpr\u001b[0m\u001b[0;34m,\u001b[0m \u001b[0mcolor\u001b[0m\u001b[0;34m=\u001b[0m\u001b[0;34m\"darkorange\"\u001b[0m\u001b[0;34m,\u001b[0m \u001b[0mlabel\u001b[0m\u001b[0;34m=\u001b[0m\u001b[0;34m\"CNN (area = {:.3f})\"\u001b[0m\u001b[0;34m.\u001b[0m\u001b[0mformat\u001b[0m\u001b[0;34m(\u001b[0m\u001b[0;36m0.9932\u001b[0m\u001b[0;34m)\u001b[0m\u001b[0;34m)\u001b[0m\u001b[0;31m#roc_auc))\u001b[0m\u001b[0;34m\u001b[0m\u001b[0;34m\u001b[0m\u001b[0m\n\u001b[0m\u001b[1;32m     14\u001b[0m \u001b[0mplt\u001b[0m\u001b[0;34m.\u001b[0m\u001b[0mplot\u001b[0m\u001b[0;34m(\u001b[0m\u001b[0;34m[\u001b[0m\u001b[0;36m0\u001b[0m\u001b[0;34m,\u001b[0m \u001b[0;36m1\u001b[0m\u001b[0;34m]\u001b[0m\u001b[0;34m,\u001b[0m \u001b[0;34m[\u001b[0m\u001b[0;36m0\u001b[0m\u001b[0;34m,\u001b[0m \u001b[0;36m1\u001b[0m\u001b[0;34m]\u001b[0m\u001b[0;34m,\u001b[0m \u001b[0mcolor\u001b[0m\u001b[0;34m=\u001b[0m\u001b[0;34m\"navy\"\u001b[0m\u001b[0;34m,\u001b[0m \u001b[0mlw\u001b[0m\u001b[0;34m=\u001b[0m\u001b[0mlw\u001b[0m\u001b[0;34m,\u001b[0m \u001b[0mlinestyle\u001b[0m\u001b[0;34m=\u001b[0m\u001b[0;34m\"--\"\u001b[0m\u001b[0;34m)\u001b[0m\u001b[0;34m\u001b[0m\u001b[0;34m\u001b[0m\u001b[0m\n\u001b[1;32m     15\u001b[0m \u001b[0mplt\u001b[0m\u001b[0;34m.\u001b[0m\u001b[0mxlim\u001b[0m\u001b[0;34m(\u001b[0m\u001b[0;34m[\u001b[0m\u001b[0;36m0.0\u001b[0m\u001b[0;34m,\u001b[0m \u001b[0;36m1.0\u001b[0m\u001b[0;34m]\u001b[0m\u001b[0;34m)\u001b[0m\u001b[0;34m\u001b[0m\u001b[0;34m\u001b[0m\u001b[0m\n",
            "\u001b[0;32m/usr/local/lib/python3.7/dist-packages/matplotlib/pyplot.py\u001b[0m in \u001b[0;36mplot\u001b[0;34m(scalex, scaley, data, *args, **kwargs)\u001b[0m\n\u001b[1;32m   2761\u001b[0m     return gca().plot(\n\u001b[1;32m   2762\u001b[0m         *args, scalex=scalex, scaley=scaley, **({\"data\": data} if data\n\u001b[0;32m-> 2763\u001b[0;31m         is not None else {}), **kwargs)\n\u001b[0m\u001b[1;32m   2764\u001b[0m \u001b[0;34m\u001b[0m\u001b[0m\n\u001b[1;32m   2765\u001b[0m \u001b[0;34m\u001b[0m\u001b[0m\n",
            "\u001b[0;32m/usr/local/lib/python3.7/dist-packages/matplotlib/axes/_axes.py\u001b[0m in \u001b[0;36mplot\u001b[0;34m(self, scalex, scaley, data, *args, **kwargs)\u001b[0m\n\u001b[1;32m   1647\u001b[0m         \u001b[0mlines\u001b[0m \u001b[0;34m=\u001b[0m \u001b[0;34m[\u001b[0m\u001b[0;34m*\u001b[0m\u001b[0mself\u001b[0m\u001b[0;34m.\u001b[0m\u001b[0m_get_lines\u001b[0m\u001b[0;34m(\u001b[0m\u001b[0;34m*\u001b[0m\u001b[0margs\u001b[0m\u001b[0;34m,\u001b[0m \u001b[0mdata\u001b[0m\u001b[0;34m=\u001b[0m\u001b[0mdata\u001b[0m\u001b[0;34m,\u001b[0m \u001b[0;34m**\u001b[0m\u001b[0mkwargs\u001b[0m\u001b[0;34m)\u001b[0m\u001b[0;34m]\u001b[0m\u001b[0;34m\u001b[0m\u001b[0;34m\u001b[0m\u001b[0m\n\u001b[1;32m   1648\u001b[0m         \u001b[0;32mfor\u001b[0m \u001b[0mline\u001b[0m \u001b[0;32min\u001b[0m \u001b[0mlines\u001b[0m\u001b[0;34m:\u001b[0m\u001b[0;34m\u001b[0m\u001b[0;34m\u001b[0m\u001b[0m\n\u001b[0;32m-> 1649\u001b[0;31m             \u001b[0mself\u001b[0m\u001b[0;34m.\u001b[0m\u001b[0madd_line\u001b[0m\u001b[0;34m(\u001b[0m\u001b[0mline\u001b[0m\u001b[0;34m)\u001b[0m\u001b[0;34m\u001b[0m\u001b[0;34m\u001b[0m\u001b[0m\n\u001b[0m\u001b[1;32m   1650\u001b[0m         \u001b[0mself\u001b[0m\u001b[0;34m.\u001b[0m\u001b[0m_request_autoscale_view\u001b[0m\u001b[0;34m(\u001b[0m\u001b[0mscalex\u001b[0m\u001b[0;34m=\u001b[0m\u001b[0mscalex\u001b[0m\u001b[0;34m,\u001b[0m \u001b[0mscaley\u001b[0m\u001b[0;34m=\u001b[0m\u001b[0mscaley\u001b[0m\u001b[0;34m)\u001b[0m\u001b[0;34m\u001b[0m\u001b[0;34m\u001b[0m\u001b[0m\n\u001b[1;32m   1651\u001b[0m         \u001b[0;32mreturn\u001b[0m \u001b[0mlines\u001b[0m\u001b[0;34m\u001b[0m\u001b[0;34m\u001b[0m\u001b[0m\n",
            "\u001b[0;32m/usr/local/lib/python3.7/dist-packages/matplotlib/axes/_base.py\u001b[0m in \u001b[0;36madd_line\u001b[0;34m(self, line)\u001b[0m\n\u001b[1;32m   1848\u001b[0m             \u001b[0mline\u001b[0m\u001b[0;34m.\u001b[0m\u001b[0mset_clip_path\u001b[0m\u001b[0;34m(\u001b[0m\u001b[0mself\u001b[0m\u001b[0;34m.\u001b[0m\u001b[0mpatch\u001b[0m\u001b[0;34m)\u001b[0m\u001b[0;34m\u001b[0m\u001b[0;34m\u001b[0m\u001b[0m\n\u001b[1;32m   1849\u001b[0m \u001b[0;34m\u001b[0m\u001b[0m\n\u001b[0;32m-> 1850\u001b[0;31m         \u001b[0mself\u001b[0m\u001b[0;34m.\u001b[0m\u001b[0m_update_line_limits\u001b[0m\u001b[0;34m(\u001b[0m\u001b[0mline\u001b[0m\u001b[0;34m)\u001b[0m\u001b[0;34m\u001b[0m\u001b[0;34m\u001b[0m\u001b[0m\n\u001b[0m\u001b[1;32m   1851\u001b[0m         \u001b[0;32mif\u001b[0m \u001b[0;32mnot\u001b[0m \u001b[0mline\u001b[0m\u001b[0;34m.\u001b[0m\u001b[0mget_label\u001b[0m\u001b[0;34m(\u001b[0m\u001b[0;34m)\u001b[0m\u001b[0;34m:\u001b[0m\u001b[0;34m\u001b[0m\u001b[0;34m\u001b[0m\u001b[0m\n\u001b[1;32m   1852\u001b[0m             \u001b[0mline\u001b[0m\u001b[0;34m.\u001b[0m\u001b[0mset_label\u001b[0m\u001b[0;34m(\u001b[0m\u001b[0;34m'_line%d'\u001b[0m \u001b[0;34m%\u001b[0m \u001b[0mlen\u001b[0m\u001b[0;34m(\u001b[0m\u001b[0mself\u001b[0m\u001b[0;34m.\u001b[0m\u001b[0mlines\u001b[0m\u001b[0;34m)\u001b[0m\u001b[0;34m)\u001b[0m\u001b[0;34m\u001b[0m\u001b[0;34m\u001b[0m\u001b[0m\n",
            "\u001b[0;32m/usr/local/lib/python3.7/dist-packages/matplotlib/axes/_base.py\u001b[0m in \u001b[0;36m_update_line_limits\u001b[0;34m(self, line)\u001b[0m\n\u001b[1;32m   1870\u001b[0m         \u001b[0mFigures\u001b[0m \u001b[0mout\u001b[0m \u001b[0mthe\u001b[0m \u001b[0mdata\u001b[0m \u001b[0mlimit\u001b[0m \u001b[0mof\u001b[0m \u001b[0mthe\u001b[0m \u001b[0mgiven\u001b[0m \u001b[0mline\u001b[0m\u001b[0;34m,\u001b[0m \u001b[0mupdating\u001b[0m \u001b[0mself\u001b[0m\u001b[0;34m.\u001b[0m\u001b[0mdataLim\u001b[0m\u001b[0;34m.\u001b[0m\u001b[0;34m\u001b[0m\u001b[0;34m\u001b[0m\u001b[0m\n\u001b[1;32m   1871\u001b[0m         \"\"\"\n\u001b[0;32m-> 1872\u001b[0;31m         \u001b[0mpath\u001b[0m \u001b[0;34m=\u001b[0m \u001b[0mline\u001b[0m\u001b[0;34m.\u001b[0m\u001b[0mget_path\u001b[0m\u001b[0;34m(\u001b[0m\u001b[0;34m)\u001b[0m\u001b[0;34m\u001b[0m\u001b[0;34m\u001b[0m\u001b[0m\n\u001b[0m\u001b[1;32m   1873\u001b[0m         \u001b[0;32mif\u001b[0m \u001b[0mpath\u001b[0m\u001b[0;34m.\u001b[0m\u001b[0mvertices\u001b[0m\u001b[0;34m.\u001b[0m\u001b[0msize\u001b[0m \u001b[0;34m==\u001b[0m \u001b[0;36m0\u001b[0m\u001b[0;34m:\u001b[0m\u001b[0;34m\u001b[0m\u001b[0;34m\u001b[0m\u001b[0m\n\u001b[1;32m   1874\u001b[0m             \u001b[0;32mreturn\u001b[0m\u001b[0;34m\u001b[0m\u001b[0;34m\u001b[0m\u001b[0m\n",
            "\u001b[0;32m/usr/local/lib/python3.7/dist-packages/matplotlib/lines.py\u001b[0m in \u001b[0;36mget_path\u001b[0;34m(self)\u001b[0m\n\u001b[1;32m   1025\u001b[0m         \"\"\"\n\u001b[1;32m   1026\u001b[0m         \u001b[0;32mif\u001b[0m \u001b[0mself\u001b[0m\u001b[0;34m.\u001b[0m\u001b[0m_invalidy\u001b[0m \u001b[0;32mor\u001b[0m \u001b[0mself\u001b[0m\u001b[0;34m.\u001b[0m\u001b[0m_invalidx\u001b[0m\u001b[0;34m:\u001b[0m\u001b[0;34m\u001b[0m\u001b[0;34m\u001b[0m\u001b[0m\n\u001b[0;32m-> 1027\u001b[0;31m             \u001b[0mself\u001b[0m\u001b[0;34m.\u001b[0m\u001b[0mrecache\u001b[0m\u001b[0;34m(\u001b[0m\u001b[0;34m)\u001b[0m\u001b[0;34m\u001b[0m\u001b[0;34m\u001b[0m\u001b[0m\n\u001b[0m\u001b[1;32m   1028\u001b[0m         \u001b[0;32mreturn\u001b[0m \u001b[0mself\u001b[0m\u001b[0;34m.\u001b[0m\u001b[0m_path\u001b[0m\u001b[0;34m\u001b[0m\u001b[0;34m\u001b[0m\u001b[0m\n\u001b[1;32m   1029\u001b[0m \u001b[0;34m\u001b[0m\u001b[0m\n",
            "\u001b[0;32m/usr/local/lib/python3.7/dist-packages/matplotlib/lines.py\u001b[0m in \u001b[0;36mrecache\u001b[0;34m(self, always)\u001b[0m\n\u001b[1;32m    668\u001b[0m         \u001b[0;32mif\u001b[0m \u001b[0malways\u001b[0m \u001b[0;32mor\u001b[0m \u001b[0mself\u001b[0m\u001b[0;34m.\u001b[0m\u001b[0m_invalidx\u001b[0m\u001b[0;34m:\u001b[0m\u001b[0;34m\u001b[0m\u001b[0;34m\u001b[0m\u001b[0m\n\u001b[1;32m    669\u001b[0m             \u001b[0mxconv\u001b[0m \u001b[0;34m=\u001b[0m \u001b[0mself\u001b[0m\u001b[0;34m.\u001b[0m\u001b[0mconvert_xunits\u001b[0m\u001b[0;34m(\u001b[0m\u001b[0mself\u001b[0m\u001b[0;34m.\u001b[0m\u001b[0m_xorig\u001b[0m\u001b[0;34m)\u001b[0m\u001b[0;34m\u001b[0m\u001b[0;34m\u001b[0m\u001b[0m\n\u001b[0;32m--> 670\u001b[0;31m             \u001b[0mx\u001b[0m \u001b[0;34m=\u001b[0m \u001b[0m_to_unmasked_float_array\u001b[0m\u001b[0;34m(\u001b[0m\u001b[0mxconv\u001b[0m\u001b[0;34m)\u001b[0m\u001b[0;34m.\u001b[0m\u001b[0mravel\u001b[0m\u001b[0;34m(\u001b[0m\u001b[0;34m)\u001b[0m\u001b[0;34m\u001b[0m\u001b[0;34m\u001b[0m\u001b[0m\n\u001b[0m\u001b[1;32m    671\u001b[0m         \u001b[0;32melse\u001b[0m\u001b[0;34m:\u001b[0m\u001b[0;34m\u001b[0m\u001b[0;34m\u001b[0m\u001b[0m\n\u001b[1;32m    672\u001b[0m             \u001b[0mx\u001b[0m \u001b[0;34m=\u001b[0m \u001b[0mself\u001b[0m\u001b[0;34m.\u001b[0m\u001b[0m_x\u001b[0m\u001b[0;34m\u001b[0m\u001b[0;34m\u001b[0m\u001b[0m\n",
            "\u001b[0;32m/usr/local/lib/python3.7/dist-packages/matplotlib/cbook/__init__.py\u001b[0m in \u001b[0;36m_to_unmasked_float_array\u001b[0;34m(x)\u001b[0m\n\u001b[1;32m   1315\u001b[0m         \u001b[0;32mreturn\u001b[0m \u001b[0mnp\u001b[0m\u001b[0;34m.\u001b[0m\u001b[0mma\u001b[0m\u001b[0;34m.\u001b[0m\u001b[0masarray\u001b[0m\u001b[0;34m(\u001b[0m\u001b[0mx\u001b[0m\u001b[0;34m,\u001b[0m \u001b[0mfloat\u001b[0m\u001b[0;34m)\u001b[0m\u001b[0;34m.\u001b[0m\u001b[0mfilled\u001b[0m\u001b[0;34m(\u001b[0m\u001b[0mnp\u001b[0m\u001b[0;34m.\u001b[0m\u001b[0mnan\u001b[0m\u001b[0;34m)\u001b[0m\u001b[0;34m\u001b[0m\u001b[0;34m\u001b[0m\u001b[0m\n\u001b[1;32m   1316\u001b[0m     \u001b[0;32melse\u001b[0m\u001b[0;34m:\u001b[0m\u001b[0;34m\u001b[0m\u001b[0;34m\u001b[0m\u001b[0m\n\u001b[0;32m-> 1317\u001b[0;31m         \u001b[0;32mreturn\u001b[0m \u001b[0mnp\u001b[0m\u001b[0;34m.\u001b[0m\u001b[0masarray\u001b[0m\u001b[0;34m(\u001b[0m\u001b[0mx\u001b[0m\u001b[0;34m,\u001b[0m \u001b[0mfloat\u001b[0m\u001b[0;34m)\u001b[0m\u001b[0;34m\u001b[0m\u001b[0;34m\u001b[0m\u001b[0m\n\u001b[0m\u001b[1;32m   1318\u001b[0m \u001b[0;34m\u001b[0m\u001b[0m\n\u001b[1;32m   1319\u001b[0m \u001b[0;34m\u001b[0m\u001b[0m\n",
            "\u001b[0;31mValueError\u001b[0m: setting an array element with a sequence."
          ]
        },
        {
          "data": {
            "image/png": "[encoded data removed]",
            "text/plain": [
              "<Figure size 432x288 with 1 Axes>"
            ]
          },
          "metadata": {
            "needs_background": "light"
          },
          "output_type": "display_data"
        }
      ],
      "source": [
        "import matplotlib.pyplot as plt\n",
        "# plt.figure(1)\n",
        "# plt.plot([0, 1], [0, 1], 'k-')\n",
        "# plt.plot(fpr, tpr, label='CNN(area = {:.3f})'.format(0.9932))#roc_auc))\n",
        "# plt.xlabel('False positive rate')\n",
        "# plt.ylabel('True positive rate')\n",
        "# plt.title('ROC curve')\n",
        "# plt.legend(loc='best')\n",
        "# plt.show()\n",
        "\n",
        "# plt.figure(1)\n",
        "# lw = 2\n",
        "# plt.plot(fpr, tpr, color=\"darkorange\", label=\"CNN (area = {:.3f})\".format(0.9932))#roc_auc))\n",
        "# plt.plot([0, 1], [0, 1], color=\"navy\", lw=lw, linestyle=\"--\")\n",
        "# plt.xlim([0.0, 1.0])\n",
        "# plt.ylim([0.0, 1.05])\n",
        "# plt.xlabel('False positive rate')\n",
        "# plt.ylabel('True positive rate')\n",
        "# plt.title('ROC curve')\n",
        "# plt.legend(loc=\"lower right\")\n",
        "# plt.show()"
      ]
    },
    {
      "cell_type": "markdown",
      "metadata": {
        "id": "jub3zLRo2WLG"
      },
      "source": [
        "#Multiclass metrics"
      ]
    },
    {
      "cell_type": "code",
      "execution_count": 211,
      "metadata": {
        "colab": {
          "base_uri": "https://localhost:8080/"
        },
        "id": "sVDQlM4xdTsp",
        "outputId": "be859bcf-09c4-4f30-8574-dfb7199e0c6c"
      },
      "outputs": [
        {
          "name": "stderr",
          "output_type": "stream",
          "text": [
            "100%|██████████| 5/5 [00:01<00:00,  3.43it/s]"
          ]
        },
        {
          "name": "stdout",
          "output_type": "stream",
          "text": [
            "\n",
            "Metrics on all data: \n",
            "Area Under ROC Curve: 0.5207756161689758\n",
            "Precision: 0.6461538672447205\n",
            "Recall: 0.6315789818763733\n",
            "F1 Score: 0.6221591234207153\n",
            "Accuracy: 0.6315789818763733\n",
            "Cohen kappa coefficient: 0.2631579041481018\n",
            "Confusion Matrix: tensor([[ 9, 10],\n",
            "        [ 4, 15]], device='cuda:0')\n",
            "Testing time 0:00:01\n"
          ]
        },
        {
          "name": "stderr",
          "output_type": "stream",
          "text": [
            "\n"
          ]
        }
      ],
      "source": [
        "#-------------------------------------------------------------Run batches\n",
        "import time\n",
        "import datetime\n",
        "from tqdm import tqdm\n",
        "\n",
        "import itertools#for testing limit size\n",
        "# slicedDataloader = itertools.islice(data_loader, 1000)\n",
        "\n",
        "# batch = next(iter(dataloader_train))\n",
        "\n",
        "start_time = time.time()\n",
        "for idx, (samples_1, targets) in enumerate(tqdm(data_loader)):\n",
        "  input_tensor_cuda=samples_1.to(device)#.cuda()\n",
        "  output = model(input_tensor_cuda)\n",
        "\n",
        "  preds = output.detach()\n",
        "  # print(preds)\n",
        "  target = targets.to(device)\n",
        "  preds = preds[: , :realClassNumber]#remove extra classes ------------------------- (also adjust classes given to metrics to only 5)\n",
        "  # print(preds)\n",
        "  # metric on current batch\n",
        "  for key, metric in MultiClassMetrics.items():\n",
        "    metric(preds, target)\n",
        "\n",
        "# metric on all batches using custom accumulation\n",
        "metricsValues = {key:metric.compute() for key, metric in MultiClassMetrics.items()}\n",
        "\n",
        "print(f\"\\nMetrics on all data: \")\n",
        "# for metricsResult in metricsList:\n",
        "for key, metric in metricsValues.items():#Print results\n",
        "  print(f\"{key}: {metric}\")\n",
        "\n",
        "# Reseting internal state such that metric ready for new data\n",
        "for key, metric in MultiClassMetrics.items():\n",
        "  metric.reset()\n",
        "\n",
        "total_time = time.time() - start_time\n",
        "total_time_str = str(datetime.timedelta(seconds=int(total_time)))\n",
        "print('Testing time {}'.format(total_time_str))"
      ]
    },
    {
      "cell_type": "code",
      "execution_count": 213,
      "metadata": {
        "colab": {
          "base_uri": "https://localhost:8080/",
          "height": 627
        },
        "id": "npwY3WKSTmCg",
        "outputId": "ba41b067-23a2-4b20-d7c6-8929f0ed3304"
      },
      "outputs": [
        {
          "data": {
            "image/png": "[encoded data removed]",
            "text/plain": [
              "<Figure size 1080x720 with 2 Axes>"
            ]
          },
          "metadata": {
            "needs_background": "light"
          },
          "output_type": "display_data"
        }
      ],
      "source": [
        "import matplotlib.pyplot as plt\n",
        "import seaborn as sns\n",
        "#Get the conv mat\n",
        "conf_mat = metricsValues[\"Confusion Matrix\"].to('cpu').numpy()\n",
        "\n",
        "\n",
        "plt.figure(figsize = (15,10))\n",
        "# Normalize it by row: for colouring\n",
        "# RowNormConvMat = conf_mat / conf_mat.astype(np.float).sum(axis=1)\n",
        "RowNormConvMat = conf_mat.astype('float') / conf_mat.sum(axis=1)[:, np.newaxis]\n",
        " \n",
        "# And see the result\n",
        "sns.heatmap(RowNormConvMat, annot= conf_mat, cmap='YlGnBu', fmt = \".3g\", cbar_kws={'label': 'Proportion of the predicted values of the correct class'})\n",
        "plt.xlabel(\"Predicted Classes\")\n",
        "plt.ylabel(\"Actual Classes\")\n",
        "plt.title(\"Confusion matrix\", fontsize = 20)\n",
        "plt.show()\n",
        "# sns.heatmap(conf_mat, annot=True)"
      ]
    }
  ],
  "metadata": {
    "accelerator": "GPU",
    "colab": {
      "name": "SwinTorchMetrics.ipynb",
      "provenance": []
    },
    "interpreter": {
      "hash": "90d300cefea5f5a9b6f76537b38232b44d1908420b3927ee92dcc0b333035ada"
    },
    "kernelspec": {
      "display_name": "Python 3.9.7 ('swinEx')",
      "language": "python",
      "name": "python3"
    },
    "language_info": {
      "codemirror_mode": {
        "name": "ipython",
        "version": 3
      },
      "file_extension": ".py",
      "mimetype": "text/x-python",
      "name": "python",
      "nbconvert_exporter": "python",
      "pygments_lexer": "ipython3",
      "version": "3.9.7"
    }
  },
  "nbformat": 4,
  "nbformat_minor": 0
}
